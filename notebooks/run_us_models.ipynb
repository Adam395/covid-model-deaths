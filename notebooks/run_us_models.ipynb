{
 "cells": [
  {
   "cell_type": "code",
   "execution_count": null,
   "metadata": {},
   "outputs": [],
   "source": [
    "import os\n",
    "import warnings\n",
    "\n",
    "import pandas as pd\n",
    "\n",
    "from covid_model_deaths.data import get_input_data, plot_crude_rates\n",
    "from covid_model_deaths import runner\n",
    "\n",
    "pd.options.display.max_rows = 99\n",
    "pd.options.display.max_columns = 99\n",
    "warnings.simplefilter('ignore')\n",
    "\n",
    "RUN_TYPE = 'prod'\n",
    "DATESTAMP_LABEL = '2020_04_17_US'\n",
    "DATA_VERSION = 'best'\n",
    "PEAK_FILE = '/ihme/covid-19/deaths/mobility_inputs/2020_04_14/final_peak_locs_04_14.csv'\n",
    "CASES_DEATHS_FILE = '/ihme/covid-19/deaths/mobility_inputs/2020_04_14/deaths_from_cases.csv'\n",
    "PEAK_DURATION_FILE = '/ihme/covid-19/deaths/mobility_inputs/2020_04_14/smooth_peak_duration.csv'\n",
    "R0_FILE = '/ihme/covid-19/deaths/mobility_inputs/2020_04_14/R0_dates.csv'\n",
    "\n",
    "\n",
    "\n",
    "CODE_DIR = os.path.abspath('../src/covid_model_deaths')\n",
    "OUTPUT_DIR = f'/ihme/covid-19/deaths/{RUN_TYPE}/{DATESTAMP_LABEL}'\n",
    "checkpoint = runner.Checkpoint(OUTPUT_DIR)\n",
    "\n",
    "if not os.path.exists(OUTPUT_DIR):\n",
    "    os.mkdir(OUTPUT_DIR)\n",
    "print(f'Writing to {OUTPUT_DIR}')\n",
    "print(CODE_DIR)\n",
    "print(checkpoint)\n",
    "\n",
    "def filter_data(data: pd.DataFrame) -> pd.DataFrame:\n",
    "    # drop Georgia the country until we fix location_ids\n",
    "    data = data[data['Country/Region'] != 'Georgia'].reset_index(drop=True)\n",
    "\n",
    "    ## 04/16 - crazy numbers in NY, drop today\n",
    "    state_column = 'Province/State' if 'Province/State' in data.columns else 'Location'\n",
    "    data = data.loc[~((data[state_column] == 'New York') & data['Date'] >= pd.Timestamp('2020-04-06'))]\n",
    "    return data"
   ]
  },
  {
   "cell_type": "code",
   "execution_count": null,
   "outputs": [],
   "source": [
    "# Store pops for Bobby.\n",
    "get_input_data('us_pops').to_csv(f'{OUTPUT_DIR}/pops.csv', index=False)"
   ],
   "metadata": {
    "collapsed": false,
    "pycharm": {
     "name": "#%%\n"
    }
   }
  },
  {
   "cell_type": "markdown",
   "metadata": {
    "pycharm": {
     "name": "#%% md\n"
    }
   },
   "source": [
    "## read full (unrestricted) set from snapshot"
   ]
  },
  {
   "cell_type": "code",
   "execution_count": null,
   "metadata": {
    "pycharm": {
     "name": "#%%\n"
    }
   },
   "outputs": [],
   "source": [
    "# come up with more informative names...\n",
    "input_full_df = filter_data(get_input_data('full_data', DATA_VERSION))\n",
    "input_death_df = filter_data(get_input_data('deaths', DATA_VERSION))\n",
    "input_age_pop_df = get_input_data('age_pop', DATA_VERSION)\n",
    "input_age_death_df = get_input_data('age_death', DATA_VERSION)\n",
    "\n",
    "\n",
    "# # read in cov input file (predicted date of R0 == 1) to see if we are using these for a given location\n",
    "# cov_df = pd.read_csv(R0_FILE)\n",
    "# r0_locs = cov_df['location_id'].unique().tolist()\n",
    "# del cov_df\n",
    "r0_locs = []\n",
    "\n",
    "# # less conservative peak ranges\n",
    "# peak_dur_df = pd.read_csv(PEAK_DURATION_FILE)\n",
    "# peak_dur_df = peak_dur_df.loc[peak_dur_df['Location'] != 'Colorado']\n",
    "# peak_dur_df['peak start date'] = pd.to_datetime(peak_dur_df['peak start date'])\n",
    "# peak_dur_df['peak end date'] = pd.to_datetime(peak_dur_df['peak end date'])\n",
    "\n",
    "checkpoint.write('full_data', input_full_df)\n",
    "checkpoint.write('deaths', input_death_df)\n",
    "checkpoint.write('age_pop', input_age_pop_df)\n",
    "checkpoint.write('age_death', input_age_death_df)"
   ]
  },
  {
   "cell_type": "code",
   "execution_count": null,
   "outputs": [],
   "source": [
    "death_df = checkpoint.load('deaths')\n",
    "\n",
    "# plot\n",
    "plot_crude_rates(death_df, level='subnat')\n"
   ],
   "metadata": {
    "collapsed": false,
    "pycharm": {
     "name": "#%%\n"
    }
   }
  },
  {
   "cell_type": "markdown",
   "metadata": {},
   "source": [
    "## combine back-casted death rates with cases for abie (using model dataset, i.e. admin1 and below)"
   ]
  },
  {
   "cell_type": "code",
   "execution_count": null,
   "metadata": {},
   "outputs": [],
   "source": [
    "full_df = checkpoint.load('full_data')\n",
    "death_df = checkpoint.load('deaths')\n",
    "age_pop_df = checkpoint.load('age_pop')\n",
    "age_death_df = checkpoint.load('age_death')\n",
    "\n",
    "cases_and_backcast_deaths_df = runner.make_cases_and_backcast_deaths(full_df, death_df, age_pop_df, age_death_df)\n",
    "\n",
    "cases_and_backcast_deaths_df.to_csv(f'{OUTPUT_DIR}/backcast_for_case_to_death.csv', index=False)\n",
    "checkpoint.write('cases_and_backcast_deaths', cases_and_backcast_deaths_df)"
   ]
  },
  {
   "cell_type": "markdown",
   "source": [
    "## Impute death thresholds."
   ],
   "metadata": {
    "collapsed": false,
    "pycharm": {
     "name": "#%% md\n"
    }
   }
  },
  {
   "cell_type": "code",
   "execution_count": null,
   "metadata": {},
   "outputs": [],
   "source": [
    "cases_and_backcast_deaths_df = checkpoint.load('cases_and_backcast_deaths')\n",
    "\n",
    "in_us = cases_and_backcast_deaths_df['Country/Region'] == 'United States of America'\n",
    "state_level = ~cases_and_backcast_deaths_df['Province/State'].isnull()\n",
    "us_states = cases_and_backcast_deaths_df.loc[in_us & state_level, 'Province/State'].unique().to_list()\n",
    "\n",
    "us_threshold_dates = runner.impute_death_threshold(cases_and_backcast_deaths_df,\n",
    "                                                   location_list=us_states)\n",
    "us_threshold_dates = cases_and_backcast_deaths_df.merge(us_threshold_dates)\n",
    "us_threshold_dates.to_csv(f'{OUTPUT_DIR}/threshold_dates.csv', index=False)\n",
    "checkpoint.write('threshold_dates', us_threshold_dates)\n"
   ]
  },
  {
   "cell_type": "markdown",
   "source": [
    "## Make last day data"
   ],
   "metadata": {
    "collapsed": false,
    "pycharm": {
     "name": "#%% md\n"
    }
   }
  },
  {
   "cell_type": "code",
   "execution_count": null,
   "outputs": [],
   "source": [
    "full_df = checkpoint.load('full_data')\n",
    "us_threshold_dates = checkpoint.load('threshold_dates')\n",
    "\n",
    "us_date_mean_df = runner.make_date_mean_df(us_threshold_dates)\n",
    "last_day_df = runner.make_last_day_df(full_df, us_date_mean_df)\n",
    "\n",
    "checkpoint.write('date_mean', us_date_mean_df)\n",
    "checkpoint.write('last_day', last_day_df)"
   ],
   "metadata": {
    "collapsed": false,
    "pycharm": {
     "name": "#%%\n"
    }
   }
  },
  {
   "cell_type": "markdown",
   "metadata": {
    "pycharm": {
     "name": "#%% md\n"
    }
   },
   "source": [
    "## Submit models"
   ]
  },
  {
   "cell_type": "code",
   "execution_count": null,
   "metadata": {
    "pycharm": {
     "name": "#%%\n"
    }
   },
   "outputs": [],
   "source": [
    "full_df = checkpoint.load('full_data')\n",
    "death_df = checkpoint.load('deaths')\n",
    "age_pop_df = checkpoint.load('age_pop_df')\n",
    "us_date_mean_df = checkpoint.load('date_mean')\n",
    "last_day_df = checkpoint.load('last_day')\n",
    "\n",
    "cases_deaths_df = pd.read_csv(CASES_DEATHS_FILE)\n",
    "cases_deaths_df['Date'] = pd.to_datetime(cases_deaths_df['Date'])\n",
    "\n",
    "us_location_ids, us_location_names = runner.get_us_location_ids_and_names(full_df)\n",
    "\n",
    "submodel_dict = runner.submit_models(full_df, death_df, age_pop_df, age_death_df, us_date_mean_df, cases_deaths_df,\n",
    "                                     us_location_ids, us_location_names, r0_locs,\n",
    "                                     PEAK_FILE, OUTPUT_DIR, DATA_VERSION, R0_FILE, CODE_DIR)\n",
    "\n",
    "\n",
    "checkpoint.write('submodel_dict', submodel_dict)"
   ]
  },
  {
   "cell_type": "markdown",
   "metadata": {
    "pycharm": {
     "name": "#%% md\n"
    }
   },
   "source": [
    "## compile draws"
   ]
  },
  {
   "cell_type": "code",
   "execution_count": null,
   "metadata": {
    "pycharm": {
     "name": "#%%\n"
    }
   },
   "outputs": [],
   "source": [
    "full_df = checkpoint.load('full_data')\n",
    "age_pop_df = checkpoint.load('age_pop')\n",
    "us_threshold_dates = checkpoint.load('threshold_dates')\n",
    "submodel_dict = checkpoint.load('submodel_dict')\n",
    "\n",
    "us_location_ids, us_location_names = runner.get_us_location_ids_and_names(full_df)\n",
    "\n",
    "in_us = full_df['Country/Region'] == 'United States of America'\n",
    "state_level = ~full_df['Province/State'].isnull()\n",
    "usa_obs_df = full_df[in_us & state_level]\n",
    "\n",
    "draw_dfs, past_draw_dfs, models_used, days, ensemble_draws_dfs = runner.compile_draws(us_location_ids,\n",
    "                                                                                      us_location_names,\n",
    "                                                                                      submodel_dict,\n",
    "                                                                                      usa_obs_df,\n",
    "                                                                                      us_threshold_dates,\n",
    "                                                                                      age_pop_df)\n",
    "\n",
    "if 'location' not in models_used:\n",
    "    raise ValueError('No location-specific draws used, must be using wrong tag')\n",
    "draw_df = pd.concat(draw_dfs)\n",
    "model_type_df = pd.DataFrame({'location': us_location_names,\n",
    "                              'model_used': models_used})\n",
    "\n",
    "# write\n",
    "draw_df.to_csv(f'{OUTPUT_DIR}/state_data.csv', index=False)\n",
    "model_type_df.to_csv(f'{OUTPUT_DIR}/state_models_used.csv', index=False)\n",
    "ensemble_plot_path = runner.make_and_save_draw_plots(OUTPUT_DIR, us_location_ids, us_location_names,\n",
    "                                                     ensemble_draws_dfs, days, models_used, age_pop_df)\n",
    "print(ensemble_plot_path)\n",
    "checkpoint.write('draw_data', draw_df)"
   ]
  },
  {
   "cell_type": "markdown",
   "metadata": {
    "pycharm": {
     "name": "#%% md\n"
    }
   },
   "source": [
    "## total US deaths in this run"
   ]
  },
  {
   "cell_type": "code",
   "execution_count": null,
   "metadata": {
    "pycharm": {
     "name": "#%%\n"
    }
   },
   "outputs": [],
   "source": [
    "draw_df = checkpoint.load('draw_data')\n",
    "\n",
    "runner.display_total_deaths(draw_df)"
   ]
  },
  {
   "cell_type": "markdown",
   "metadata": {
    "pycharm": {
     "name": "#%% md\n"
    }
   },
   "source": [
    "## combine with previous predictions"
   ]
  },
  {
   "cell_type": "code",
   "execution_count": null,
   "metadata": {},
   "outputs": [],
   "source": [
    "# ## ## ## ## ## ## ## ## ## ## ## ## ## ## ## ## ## ## ## ## ## ## ## ##\n",
    "# raw_draw_path = f'{OUTPUT_DIR}/state_data.csv'\n",
    "# average_draw_path = f'{OUTPUT_DIR}/past_avg_state_data.csv'\n",
    "# yesterday_draw_path = '/ihme/covid-19/deaths/prod/2020_04_10_US/state_data.csv'\n",
    "# before_yesterday_draw_path = '/ihme/covid-19/deaths/prod/2020_04_09_US/state_data.csv'\n",
    "# ## ## ## ## ## ## ## ## ## ## ## ## ## ## ## ## ## ## ## ## ## ## ## ##\n",
    "\n",
    "# avg_draw_df = runner.average_draws(OUTPUT_DIR, 'US', raw_draw_path, yesterday_draw_path, before_yesterday_draw_path)\n",
    "\n",
    "# ## NO NEED TO DO THIS, FOR NOW ##\n",
    "# # avg_df = get_peak_date(past_draw_df, avg_df)\n",
    "\n",
    "# # store data\n",
    "# avg_df.to_csv(average_draw_path, index=False)\n",
    "# print(average_draw_path)\n",
    "\n",
    "# # plot\n",
    "# compare_average_plot_path = runner.make_and_save_compare_average_plots(OUTPUT_DIR,\n",
    "#                                                                        raw_draw_path,\n",
    "#                                                                        average_draw_path,\n",
    "#                                                                        yesterday_draw_path,\n",
    "#                                                                        before_yesterday_draw_path,\n",
    "#                                                                        'United States of America')\n",
    "# print(compare_average_plot_path)\n"
   ]
  },
  {
   "cell_type": "code",
   "metadata": {
    "pycharm": {
     "name": "#%%\n"
    }
   },
   "source": [
    "raw_draw_path = f'{OUTPUT_DIR}/state_data.csv'\n",
    "previous_draw_path = '/ihme/covid-19/deaths/prod/2020_04_16_US/state_data.csv'\n",
    "\n",
    "compare_to_previous_plot_path = runner.make_and_save_compare_to_previous_plots(OUTPUT_DIR, raw_draw_path, previous_draw_path)\n"
   ],
   "execution_count": null,
   "outputs": []
  },
  {
   "cell_type": "code",
   "execution_count": null,
   "metadata": {
    "pycharm": {
     "name": "#%%\n"
    }
   },
   "outputs": [],
   "source": [
    "\n",
    "viz_dir = runner.send_plots_to_diagnostics(DATESTAMP_LABEL,\n",
    "                                           ensemble_plot_path,\n",
    "                                           # compare_average_plot_path,\n",
    "                                           compare_to_previous_plot_path)\n",
    "print(viz_dir)\n",
    "\n"
   ]
  }
 ],
 "metadata": {
  "kernelspec": {
   "display_name": "Python 3",
   "language": "python",
   "name": "python3"
  },
  "language_info": {
   "codemirror_mode": {
    "name": "ipython",
    "version": 3
   },
   "file_extension": ".py",
   "mimetype": "text/x-python",
   "name": "python",
   "nbconvert_exporter": "python",
   "pygments_lexer": "ipython3",
   "version": "3.6.10"
  }
 },
 "nbformat": 4,
 "nbformat_minor": 4
}