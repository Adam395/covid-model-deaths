{
 "cells": [
  {
   "cell_type": "code",
   "execution_count": 1,
   "metadata": {},
   "outputs": [
    {
     "name": "stdout",
     "output_type": "stream",
     "text": [
      "Writing to /ihme/covid-19/deaths/dev/2020_04_23_US_pipeline_rmb\n",
      "/ihme/code/rmbarber/covid-model-deaths/src/covid_model_deaths\n",
      "Checkpoint(/ihme/covid-19/deaths/dev/2020_04_23_US_pipeline_rmb/checkpoint)\n"
     ]
    }
   ],
   "source": [
    "import os\n",
    "import warnings\n",
    "\n",
    "from db_queries import get_location_metadata\n",
    "import pandas as pd\n",
    "\n",
    "from covid_model_deaths.data import get_input_data, plot_crude_rates\n",
    "from covid_model_deaths.globals import COLUMNS\n",
    "from covid_model_deaths import runner\n",
    "\n",
    "pd.options.display.max_rows = 99\n",
    "pd.options.display.max_columns = 99\n",
    "warnings.simplefilter('ignore')\n",
    "\n",
    "RUN_TYPE = 'dev'\n",
    "DATA_VERSION = 'best'\n",
    "DATESTAMP_LABEL = '2020_04_23_US_pipeline_rmb'\n",
    "\n",
    "PEAK_FILE = '/ihme/covid-19/deaths/mobility_inputs/2020_04_20/peak_locs_april20_.csv.csv'\n",
    "PEAK_DURATION_FILE = '/ihme/covid-19/deaths/mobility_inputs/2020_04_14/smooth_peak_duration.csv'\n",
    "R0_FILE = '/ihme/covid-19/deaths/mobility_inputs/2020_04_14/R0_dates.csv'\n",
    "LOCATION_SET_VERSION = 648\n",
    "\n",
    "\n",
    "# # read in cov input file (predicted date of R0 == 1) to see if we are using these for a given location\n",
    "# cov_df = pd.read_csv(R0_FILE)\n",
    "# r0_locs = cov_df['location_id'].unique().tolist()\n",
    "# del cov_df\n",
    "r0_locs = []\n",
    "\n",
    "# # less conservative peak ranges\n",
    "# peak_dur_df = pd.read_csv(PEAK_DURATION_FILE)\n",
    "# peak_dur_df = peak_dur_df.loc[peak_dur_df['Location'] != 'Colorado']\n",
    "# peak_dur_df['peak start date'] = pd.to_datetime(peak_dur_df['peak start date'])\n",
    "# peak_dur_df['peak end date'] = pd.to_datetime(peak_dur_df['peak end date'])\n",
    "\n",
    "CODE_DIR = os.path.abspath('../src/covid_model_deaths')\n",
    "OUTPUT_DIR = f'/ihme/covid-19/deaths/{RUN_TYPE}/{DATESTAMP_LABEL}'\n",
    "if not os.path.exists(OUTPUT_DIR):\n",
    "    os.mkdir(OUTPUT_DIR)\n",
    "checkpoint = runner.Checkpoint(OUTPUT_DIR)\n",
    "\n",
    "\n",
    "print(f'Writing to {OUTPUT_DIR}')\n",
    "print(CODE_DIR)\n",
    "print(checkpoint)\n",
    "\n",
    "raw_draw_path = f'{OUTPUT_DIR}/euro_data.csv'\n",
    "average_draw_path = f'{OUTPUT_DIR}/past_avg_euro_data.csv'\n",
    "yesterday_draw_path = '/ihme/covid-19/deaths/prod/2020_04_22_US/state_data.csv'\n",
    "before_yesterday_draw_path = '/ihme/covid-19/deaths/prod/2020_04_21_US/state_data.csv'\n",
    "\n",
    "\n",
    "def filter_data(data: pd.DataFrame) -> pd.DataFrame:\n",
    "    \"\"\"Remove bad or problematic data locations and dates.\"\"\"\n",
    "    return data\n",
    "\n",
    "def get_locations(location_set_version_id):\n",
    "    loc_df = get_location_metadata(location_set_id=111, \n",
    "                                   location_set_version_id=location_set_version_id)\n",
    "    most_detailed = loc_df['most_detailed'] == 1\n",
    "    us = loc_df['path_to_top_parent'].str.startswith('102,')\n",
    "    keep_columns = ['location_id', 'location_ascii_name', 'parent_id', 'level', 'most_detailed']\n",
    "    \n",
    "    us_df = loc_df.loc[most_detailed & us, keep_columns]\n",
    "    us_df = us_df.rename(columns={'location_ascii_name': 'Location'})\n",
    "    \n",
    "    # Add parents\n",
    "    loc_df = loc_df[['location_id', 'location_ascii_name']]\n",
    "    loc_df = loc_df.rename(columns={'location_id':'parent_id',\n",
    "                                    'location_ascii_name':'Country/Region'})\n",
    "    \n",
    "    us_df = us_df.merge(loc_df)\n",
    "    us_df = us_df.loc[:, ['location_id', 'Location', 'Country/Region', 'level']]\n",
    "    return us_df\n",
    "    \n",
    "    \n",
    "    \n",
    "    "
   ]
  },
  {
   "cell_type": "markdown",
   "metadata": {},
   "source": [
    "## read full (unrestricted) set from snapshot"
   ]
  },
  {
   "cell_type": "code",
   "execution_count": 2,
   "metadata": {},
   "outputs": [],
   "source": [
    "loc_df = get_locations(LOCATION_SET_VERSION)\n",
    "input_full_df = filter_data(get_input_data('full_data', DATA_VERSION))\n",
    "input_death_df = filter_data(get_input_data('deaths', DATA_VERSION))\n",
    "input_age_pop_df = get_input_data('age_pop', DATA_VERSION)\n",
    "input_age_death_df = get_input_data('age_death', DATA_VERSION)\n",
    "\n",
    "# Save pops for Bobby.\n",
    "get_input_data('us_pops').to_csv(f'{OUTPUT_DIR}/pops.csv', index=False)\n",
    "\n",
    "checkpoint.write('location', loc_df)\n",
    "checkpoint.write('full_data', input_full_df)\n",
    "checkpoint.write('deaths', input_death_df)\n",
    "checkpoint.write('age_pop', input_age_pop_df)\n",
    "checkpoint.write('age_death', input_age_death_df)"
   ]
  },
  {
   "cell_type": "code",
   "execution_count": 3,
   "metadata": {},
   "outputs": [],
   "source": [
    "# death_df = checkpoint.load('deaths')\n",
    "# plot\n",
    "# plot_crude_rates(death_df, level='subnat')"
   ]
  },
  {
   "cell_type": "markdown",
   "metadata": {},
   "source": [
    "## combine back-casted death rates with cases for abie (using model dataset, i.e. admin1 and below)"
   ]
  },
  {
   "cell_type": "code",
   "execution_count": 4,
   "metadata": {},
   "outputs": [
    {
     "name": "stderr",
     "output_type": "stream",
     "text": [
      "2020-04-24 13:52:47.277 | INFO     | covid_model_deaths.runner:load:47 - Loading full_data from in memory cache.\n",
      "2020-04-24 13:52:47.279 | INFO     | covid_model_deaths.runner:load:47 - Loading deaths from in memory cache.\n",
      "2020-04-24 13:52:47.280 | INFO     | covid_model_deaths.runner:load:47 - Loading age_pop from in memory cache.\n",
      "2020-04-24 13:52:47.281 | INFO     | covid_model_deaths.runner:load:47 - Loading age_death from in memory cache.\n",
      "100%|██████████| 178/178 [01:22<00:00,  2.16it/s]\n"
     ]
    },
    {
     "name": "stdout",
     "output_type": "stream",
     "text": [
      "CPU times: user 1.85 s, sys: 298 ms, total: 2.14 s\n",
      "Wall time: 1min 23s\n"
     ]
    }
   ],
   "source": [
    "%%time\n",
    "full_df = checkpoint.load('full_data')\n",
    "death_df = checkpoint.load('deaths')\n",
    "age_pop_df = checkpoint.load('age_pop')\n",
    "age_death_df = checkpoint.load('age_death')\n",
    "\n",
    "backcast_location_ids = runner.get_backcast_location_ids(full_df)\n",
    "cases_and_backcast_deaths_df = runner.make_cases_and_backcast_deaths(full_df, death_df, age_pop_df, age_death_df, backcast_location_ids)\n",
    "\n",
    "cases_and_backcast_deaths_df.to_csv(f'{OUTPUT_DIR}/backcast_for_case_to_death.csv', index=False)\n",
    "checkpoint.write('cases_and_backcast_deaths', cases_and_backcast_deaths_df)"
   ]
  },
  {
   "cell_type": "markdown",
   "metadata": {},
   "source": [
    "## Impute death thresholds."
   ]
  },
  {
   "cell_type": "code",
   "execution_count": 5,
   "metadata": {},
   "outputs": [
    {
     "name": "stderr",
     "output_type": "stream",
     "text": [
      "2020-04-24 13:54:14.914 | INFO     | covid_model_deaths.runner:load:47 - Loading cases_and_backcast_deaths from in memory cache.\n",
      "2020-04-24 13:54:14.916 | INFO     | covid_model_deaths.runner:load:47 - Loading location from in memory cache.\n",
      "100%|██████████| 53/53 [00:02<00:00, 18.01it/s]\n"
     ]
    },
    {
     "name": "stdout",
     "output_type": "stream",
     "text": [
      "CPU times: user 964 ms, sys: 239 ms, total: 1.2 s\n",
      "Wall time: 3.5 s\n"
     ]
    }
   ],
   "source": [
    "%%time\n",
    "cases_and_backcast_deaths_df = checkpoint.load('cases_and_backcast_deaths')\n",
    "loc_df = checkpoint.load('location')\n",
    "threshold_dates = runner.impute_death_threshold(cases_and_backcast_deaths_df,\n",
    "                                                loc_df)\n",
    "threshold_dates.to_csv(f'{OUTPUT_DIR}/threshold_dates.csv', index=False)\n",
    "checkpoint.write('threshold_dates', threshold_dates)"
   ]
  },
  {
   "cell_type": "markdown",
   "metadata": {},
   "source": [
    "## Make last day data"
   ]
  },
  {
   "cell_type": "code",
   "execution_count": 6,
   "metadata": {},
   "outputs": [
    {
     "name": "stderr",
     "output_type": "stream",
     "text": [
      "2020-04-24 13:54:21.502 | INFO     | covid_model_deaths.runner:load:47 - Loading full_data from in memory cache.\n",
      "2020-04-24 13:54:21.504 | INFO     | covid_model_deaths.runner:load:47 - Loading threshold_dates from in memory cache.\n"
     ]
    }
   ],
   "source": [
    "full_df = checkpoint.load('full_data')\n",
    "threshold_dates = checkpoint.load('threshold_dates')\n",
    "\n",
    "date_mean_df = runner.make_date_mean_df(threshold_dates)\n",
    "last_day_df = runner.make_last_day_df(full_df,date_mean_df)\n",
    "last_day_df.to_csv(f'{OUTPUT_DIR}/last_day.csv', index=False)\n",
    "\n",
    "checkpoint.write('date_mean', date_mean_df)\n",
    "checkpoint.write('last_day', last_day_df)"
   ]
  },
  {
   "cell_type": "markdown",
   "metadata": {},
   "source": [
    "## Submit models"
   ]
  },
  {
   "cell_type": "code",
   "execution_count": 11,
   "metadata": {},
   "outputs": [
    {
     "name": "stderr",
     "output_type": "stream",
     "text": [
      "2020-04-24 14:06:35.530 | INFO     | covid_model_deaths.runner:load:47 - Loading full_data from in memory cache.\n",
      "2020-04-24 14:06:35.531 | INFO     | covid_model_deaths.runner:load:47 - Loading deaths from in memory cache.\n",
      "2020-04-24 14:06:35.533 | INFO     | covid_model_deaths.runner:load:47 - Loading age_pop from in memory cache.\n",
      "2020-04-24 14:06:35.534 | INFO     | covid_model_deaths.runner:load:47 - Loading age_death from in memory cache.\n",
      "2020-04-24 14:06:35.535 | INFO     | covid_model_deaths.runner:load:47 - Loading date_mean from in memory cache.\n",
      "2020-04-24 14:06:35.535 | INFO     | covid_model_deaths.runner:load:47 - Loading last_day from in memory cache.\n",
      "2020-04-24 14:06:35.536 | INFO     | covid_model_deaths.runner:load:47 - Loading location from in memory cache.\n",
      "  0%|          | 0/53 [00:00<?, ?it/s]"
     ]
    },
    {
     "name": "stdout",
     "output_type": "stream",
     "text": [
      "qsub -N curve_model_523_google_21 -P proj_covid -q d.q -b y -l m_mem_free=12G -l fthread=3 -o /share/temp/sgeoutput/covid/output/ -e /share/temp/sgeoutput/covid/errors/ /ihme/covid-19/miniconda/envs/covid-deaths-2020-04-24_13-45-44/bin/python /ihme/code/rmbarber/covid-model-deaths/src/covid_model_deaths/model.py --model_location_id 523 --data_file \"/ihme/covid-19/deaths/dev/2020_04_23_US_pipeline_rmb/model_data_google_21/523.csv\" --cov_file \"/ihme/covid-19/deaths/dev/2020_04_23_US_pipeline_rmb/model_data_google_21/523_covariate.csv\" --peaked_file \"/ihme/covid-19/deaths/mobility_inputs/2020_04_20/peak_locs_april20_.csv.csv\" --output_dir \"/ihme/covid-19/deaths/dev/2020_04_23_US_pipeline_rmb/model_data_google_21/523\" --last_day_file \"/ihme/covid-19/deaths/dev/2020_04_23_US_pipeline_rmb/last_day.csv\" --covariate_effect gamma --n_draws=333\n",
      "Your job 40081769 (\"curve_model_523_google_21\") has been submitted\n",
      "\n",
      "qsub -N curve_model_523_descartes_21 -P proj_covid -q d.q -b y -l m_mem_free=12G -l fthread=3 -o /share/temp/sgeoutput/covid/output/ -e /share/temp/sgeoutput/covid/errors/ /ihme/covid-19/miniconda/envs/covid-deaths-2020-04-24_13-45-44/bin/python /ihme/code/rmbarber/covid-model-deaths/src/covid_model_deaths/model.py --model_location_id 523 --data_file \"/ihme/covid-19/deaths/dev/2020_04_23_US_pipeline_rmb/model_data_descartes_21/523.csv\" --cov_file \"/ihme/covid-19/deaths/dev/2020_04_23_US_pipeline_rmb/model_data_descartes_21/523_covariate.csv\" --peaked_file \"/ihme/covid-19/deaths/mobility_inputs/2020_04_20/peak_locs_april20_.csv.csv\" --output_dir \"/ihme/covid-19/deaths/dev/2020_04_23_US_pipeline_rmb/model_data_descartes_21/523\" --last_day_file \"/ihme/covid-19/deaths/dev/2020_04_23_US_pipeline_rmb/last_day.csv\" --covariate_effect gamma --n_draws=333\n",
      "Your job 40081771 (\"curve_model_523_descartes_21\") has been submitted\n",
      "\n"
     ]
    },
    {
     "name": "stderr",
     "output_type": "stream",
     "text": [
      "  2%|▏         | 1/53 [00:11<10:12, 11.77s/it]"
     ]
    },
    {
     "name": "stdout",
     "output_type": "stream",
     "text": [
      "qsub -N curve_model_523_safegraph_21 -P proj_covid -q d.q -b y -l m_mem_free=12G -l fthread=3 -o /share/temp/sgeoutput/covid/output/ -e /share/temp/sgeoutput/covid/errors/ /ihme/covid-19/miniconda/envs/covid-deaths-2020-04-24_13-45-44/bin/python /ihme/code/rmbarber/covid-model-deaths/src/covid_model_deaths/model.py --model_location_id 523 --data_file \"/ihme/covid-19/deaths/dev/2020_04_23_US_pipeline_rmb/model_data_safegraph_21/523.csv\" --cov_file \"/ihme/covid-19/deaths/dev/2020_04_23_US_pipeline_rmb/model_data_safegraph_21/523_covariate.csv\" --peaked_file \"/ihme/covid-19/deaths/mobility_inputs/2020_04_20/peak_locs_april20_.csv.csv\" --output_dir \"/ihme/covid-19/deaths/dev/2020_04_23_US_pipeline_rmb/model_data_safegraph_21/523\" --last_day_file \"/ihme/covid-19/deaths/dev/2020_04_23_US_pipeline_rmb/last_day.csv\" --covariate_effect gamma --n_draws=334\n",
      "Your job 40081772 (\"curve_model_523_safegraph_21\") has been submitted\n",
      "\n",
      "qsub -N curve_model_524_google_21 -P proj_covid -q d.q -b y -l m_mem_free=12G -l fthread=3 -o /share/temp/sgeoutput/covid/output/ -e /share/temp/sgeoutput/covid/errors/ /ihme/covid-19/miniconda/envs/covid-deaths-2020-04-24_13-45-44/bin/python /ihme/code/rmbarber/covid-model-deaths/src/covid_model_deaths/model.py --model_location_id 524 --data_file \"/ihme/covid-19/deaths/dev/2020_04_23_US_pipeline_rmb/model_data_google_21/524.csv\" --cov_file \"/ihme/covid-19/deaths/dev/2020_04_23_US_pipeline_rmb/model_data_google_21/524_covariate.csv\" --peaked_file \"/ihme/covid-19/deaths/mobility_inputs/2020_04_20/peak_locs_april20_.csv.csv\" --output_dir \"/ihme/covid-19/deaths/dev/2020_04_23_US_pipeline_rmb/model_data_google_21/524\" --last_day_file \"/ihme/covid-19/deaths/dev/2020_04_23_US_pipeline_rmb/last_day.csv\" --covariate_effect gamma --n_draws=333\n",
      "Your job 40081779 (\"curve_model_524_google_21\") has been submitted\n",
      "\n",
      "qsub -N curve_model_524_descartes_21 -P proj_covid -q d.q -b y -l m_mem_free=12G -l fthread=3 -o /share/temp/sgeoutput/covid/output/ -e /share/temp/sgeoutput/covid/errors/ /ihme/covid-19/miniconda/envs/covid-deaths-2020-04-24_13-45-44/bin/python /ihme/code/rmbarber/covid-model-deaths/src/covid_model_deaths/model.py --model_location_id 524 --data_file \"/ihme/covid-19/deaths/dev/2020_04_23_US_pipeline_rmb/model_data_descartes_21/524.csv\" --cov_file \"/ihme/covid-19/deaths/dev/2020_04_23_US_pipeline_rmb/model_data_descartes_21/524_covariate.csv\" --peaked_file \"/ihme/covid-19/deaths/mobility_inputs/2020_04_20/peak_locs_april20_.csv.csv\" --output_dir \"/ihme/covid-19/deaths/dev/2020_04_23_US_pipeline_rmb/model_data_descartes_21/524\" --last_day_file \"/ihme/covid-19/deaths/dev/2020_04_23_US_pipeline_rmb/last_day.csv\" --covariate_effect gamma --n_draws=333\n",
      "Your job 40081782 (\"curve_model_524_descartes_21\") has been submitted\n",
      "\n"
     ]
    },
    {
     "name": "stderr",
     "output_type": "stream",
     "text": [
      "  4%|▍         | 2/53 [00:21<09:31, 11.21s/it]"
     ]
    },
    {
     "name": "stdout",
     "output_type": "stream",
     "text": [
      "qsub -N curve_model_524_safegraph_21 -P proj_covid -q d.q -b y -l m_mem_free=12G -l fthread=3 -o /share/temp/sgeoutput/covid/output/ -e /share/temp/sgeoutput/covid/errors/ /ihme/covid-19/miniconda/envs/covid-deaths-2020-04-24_13-45-44/bin/python /ihme/code/rmbarber/covid-model-deaths/src/covid_model_deaths/model.py --model_location_id 524 --data_file \"/ihme/covid-19/deaths/dev/2020_04_23_US_pipeline_rmb/model_data_safegraph_21/524.csv\" --cov_file \"/ihme/covid-19/deaths/dev/2020_04_23_US_pipeline_rmb/model_data_safegraph_21/524_covariate.csv\" --peaked_file \"/ihme/covid-19/deaths/mobility_inputs/2020_04_20/peak_locs_april20_.csv.csv\" --output_dir \"/ihme/covid-19/deaths/dev/2020_04_23_US_pipeline_rmb/model_data_safegraph_21/524\" --last_day_file \"/ihme/covid-19/deaths/dev/2020_04_23_US_pipeline_rmb/last_day.csv\" --covariate_effect gamma --n_draws=334\n",
      "Your job 40081787 (\"curve_model_524_safegraph_21\") has been submitted\n",
      "\n",
      "qsub -N curve_model_525_google_21 -P proj_covid -q d.q -b y -l m_mem_free=12G -l fthread=3 -o /share/temp/sgeoutput/covid/output/ -e /share/temp/sgeoutput/covid/errors/ /ihme/covid-19/miniconda/envs/covid-deaths-2020-04-24_13-45-44/bin/python /ihme/code/rmbarber/covid-model-deaths/src/covid_model_deaths/model.py --model_location_id 525 --data_file \"/ihme/covid-19/deaths/dev/2020_04_23_US_pipeline_rmb/model_data_google_21/525.csv\" --cov_file \"/ihme/covid-19/deaths/dev/2020_04_23_US_pipeline_rmb/model_data_google_21/525_covariate.csv\" --peaked_file \"/ihme/covid-19/deaths/mobility_inputs/2020_04_20/peak_locs_april20_.csv.csv\" --output_dir \"/ihme/covid-19/deaths/dev/2020_04_23_US_pipeline_rmb/model_data_google_21/525\" --last_day_file \"/ihme/covid-19/deaths/dev/2020_04_23_US_pipeline_rmb/last_day.csv\" --covariate_effect gamma --n_draws=333\n",
      "Your job 40081802 (\"curve_model_525_google_21\") has been submitted\n",
      "\n",
      "qsub -N curve_model_525_descartes_21 -P proj_covid -q d.q -b y -l m_mem_free=12G -l fthread=3 -o /share/temp/sgeoutput/covid/output/ -e /share/temp/sgeoutput/covid/errors/ /ihme/covid-19/miniconda/envs/covid-deaths-2020-04-24_13-45-44/bin/python /ihme/code/rmbarber/covid-model-deaths/src/covid_model_deaths/model.py --model_location_id 525 --data_file \"/ihme/covid-19/deaths/dev/2020_04_23_US_pipeline_rmb/model_data_descartes_21/525.csv\" --cov_file \"/ihme/covid-19/deaths/dev/2020_04_23_US_pipeline_rmb/model_data_descartes_21/525_covariate.csv\" --peaked_file \"/ihme/covid-19/deaths/mobility_inputs/2020_04_20/peak_locs_april20_.csv.csv\" --output_dir \"/ihme/covid-19/deaths/dev/2020_04_23_US_pipeline_rmb/model_data_descartes_21/525\" --last_day_file \"/ihme/covid-19/deaths/dev/2020_04_23_US_pipeline_rmb/last_day.csv\" --covariate_effect gamma --n_draws=333\n",
      "Your job 40081806 (\"curve_model_525_descartes_21\") has been submitted\n",
      "\n"
     ]
    },
    {
     "name": "stderr",
     "output_type": "stream",
     "text": [
      "  6%|▌         | 3/53 [00:31<09:05, 10.91s/it]"
     ]
    },
    {
     "name": "stdout",
     "output_type": "stream",
     "text": [
      "qsub -N curve_model_525_safegraph_21 -P proj_covid -q d.q -b y -l m_mem_free=12G -l fthread=3 -o /share/temp/sgeoutput/covid/output/ -e /share/temp/sgeoutput/covid/errors/ /ihme/covid-19/miniconda/envs/covid-deaths-2020-04-24_13-45-44/bin/python /ihme/code/rmbarber/covid-model-deaths/src/covid_model_deaths/model.py --model_location_id 525 --data_file \"/ihme/covid-19/deaths/dev/2020_04_23_US_pipeline_rmb/model_data_safegraph_21/525.csv\" --cov_file \"/ihme/covid-19/deaths/dev/2020_04_23_US_pipeline_rmb/model_data_safegraph_21/525_covariate.csv\" --peaked_file \"/ihme/covid-19/deaths/mobility_inputs/2020_04_20/peak_locs_april20_.csv.csv\" --output_dir \"/ihme/covid-19/deaths/dev/2020_04_23_US_pipeline_rmb/model_data_safegraph_21/525\" --last_day_file \"/ihme/covid-19/deaths/dev/2020_04_23_US_pipeline_rmb/last_day.csv\" --covariate_effect gamma --n_draws=334\n",
      "Your job 40081810 (\"curve_model_525_safegraph_21\") has been submitted\n",
      "\n",
      "qsub -N curve_model_526_google_21 -P proj_covid -q d.q -b y -l m_mem_free=12G -l fthread=3 -o /share/temp/sgeoutput/covid/output/ -e /share/temp/sgeoutput/covid/errors/ /ihme/covid-19/miniconda/envs/covid-deaths-2020-04-24_13-45-44/bin/python /ihme/code/rmbarber/covid-model-deaths/src/covid_model_deaths/model.py --model_location_id 526 --data_file \"/ihme/covid-19/deaths/dev/2020_04_23_US_pipeline_rmb/model_data_google_21/526.csv\" --cov_file \"/ihme/covid-19/deaths/dev/2020_04_23_US_pipeline_rmb/model_data_google_21/526_covariate.csv\" --peaked_file \"/ihme/covid-19/deaths/mobility_inputs/2020_04_20/peak_locs_april20_.csv.csv\" --output_dir \"/ihme/covid-19/deaths/dev/2020_04_23_US_pipeline_rmb/model_data_google_21/526\" --last_day_file \"/ihme/covid-19/deaths/dev/2020_04_23_US_pipeline_rmb/last_day.csv\" --covariate_effect gamma --n_draws=333\n",
      "Your job 40081824 (\"curve_model_526_google_21\") has been submitted\n",
      "\n",
      "qsub -N curve_model_526_descartes_21 -P proj_covid -q d.q -b y -l m_mem_free=12G -l fthread=3 -o /share/temp/sgeoutput/covid/output/ -e /share/temp/sgeoutput/covid/errors/ /ihme/covid-19/miniconda/envs/covid-deaths-2020-04-24_13-45-44/bin/python /ihme/code/rmbarber/covid-model-deaths/src/covid_model_deaths/model.py --model_location_id 526 --data_file \"/ihme/covid-19/deaths/dev/2020_04_23_US_pipeline_rmb/model_data_descartes_21/526.csv\" --cov_file \"/ihme/covid-19/deaths/dev/2020_04_23_US_pipeline_rmb/model_data_descartes_21/526_covariate.csv\" --peaked_file \"/ihme/covid-19/deaths/mobility_inputs/2020_04_20/peak_locs_april20_.csv.csv\" --output_dir \"/ihme/covid-19/deaths/dev/2020_04_23_US_pipeline_rmb/model_data_descartes_21/526\" --last_day_file \"/ihme/covid-19/deaths/dev/2020_04_23_US_pipeline_rmb/last_day.csv\" --covariate_effect gamma --n_draws=333\n",
      "Your job 40081825 (\"curve_model_526_descartes_21\") has been submitted\n",
      "\n",
      "qsub -N curve_model_526_safegraph_21 -P proj_covid -q d.q -b y -l m_mem_free=12G -l fthread=3 -o /share/temp/sgeoutput/covid/output/ -e /share/temp/sgeoutput/covid/errors/ /ihme/covid-19/miniconda/envs/covid-deaths-2020-04-24_13-45-44/bin/python /ihme/code/rmbarber/covid-model-deaths/src/covid_model_deaths/model.py --model_location_id 526 --data_file \"/ihme/covid-19/deaths/dev/2020_04_23_US_pipeline_rmb/model_data_safegraph_21/526.csv\" --cov_file \"/ihme/covid-19/deaths/dev/2020_04_23_US_pipeline_rmb/model_data_safegraph_21/526_covariate.csv\" --peaked_file \"/ihme/covid-19/deaths/mobility_inputs/2020_04_20/peak_locs_april20_.csv.csv\" --output_dir \"/ihme/covid-19/deaths/dev/2020_04_23_US_pipeline_rmb/model_data_safegraph_21/526\" --last_day_file \"/ihme/covid-19/deaths/dev/2020_04_23_US_pipeline_rmb/last_day.csv\" --covariate_effect gamma --n_draws=334\n"
     ]
    },
    {
     "name": "stderr",
     "output_type": "stream",
     "text": [
      "  8%|▊         | 4/53 [00:41<08:42, 10.66s/it]"
     ]
    },
    {
     "name": "stdout",
     "output_type": "stream",
     "text": [
      "Your job 40081827 (\"curve_model_526_safegraph_21\") has been submitted\n",
      "\n",
      "qsub -N curve_model_527_google_21 -P proj_covid -q d.q -b y -l m_mem_free=12G -l fthread=3 -o /share/temp/sgeoutput/covid/output/ -e /share/temp/sgeoutput/covid/errors/ /ihme/covid-19/miniconda/envs/covid-deaths-2020-04-24_13-45-44/bin/python /ihme/code/rmbarber/covid-model-deaths/src/covid_model_deaths/model.py --model_location_id 527 --data_file \"/ihme/covid-19/deaths/dev/2020_04_23_US_pipeline_rmb/model_data_google_21/527.csv\" --cov_file \"/ihme/covid-19/deaths/dev/2020_04_23_US_pipeline_rmb/model_data_google_21/527_covariate.csv\" --peaked_file \"/ihme/covid-19/deaths/mobility_inputs/2020_04_20/peak_locs_april20_.csv.csv\" --output_dir \"/ihme/covid-19/deaths/dev/2020_04_23_US_pipeline_rmb/model_data_google_21/527\" --last_day_file \"/ihme/covid-19/deaths/dev/2020_04_23_US_pipeline_rmb/last_day.csv\" --covariate_effect gamma --n_draws=333\n",
      "Your job 40081833 (\"curve_model_527_google_21\") has been submitted\n",
      "\n",
      "qsub -N curve_model_527_descartes_21 -P proj_covid -q d.q -b y -l m_mem_free=12G -l fthread=3 -o /share/temp/sgeoutput/covid/output/ -e /share/temp/sgeoutput/covid/errors/ /ihme/covid-19/miniconda/envs/covid-deaths-2020-04-24_13-45-44/bin/python /ihme/code/rmbarber/covid-model-deaths/src/covid_model_deaths/model.py --model_location_id 527 --data_file \"/ihme/covid-19/deaths/dev/2020_04_23_US_pipeline_rmb/model_data_descartes_21/527.csv\" --cov_file \"/ihme/covid-19/deaths/dev/2020_04_23_US_pipeline_rmb/model_data_descartes_21/527_covariate.csv\" --peaked_file \"/ihme/covid-19/deaths/mobility_inputs/2020_04_20/peak_locs_april20_.csv.csv\" --output_dir \"/ihme/covid-19/deaths/dev/2020_04_23_US_pipeline_rmb/model_data_descartes_21/527\" --last_day_file \"/ihme/covid-19/deaths/dev/2020_04_23_US_pipeline_rmb/last_day.csv\" --covariate_effect gamma --n_draws=333\n",
      "Your job 40081834 (\"curve_model_527_descartes_21\") has been submitted\n",
      "\n"
     ]
    },
    {
     "name": "stderr",
     "output_type": "stream",
     "text": [
      "  9%|▉         | 5/53 [00:52<08:24, 10.51s/it]"
     ]
    },
    {
     "name": "stdout",
     "output_type": "stream",
     "text": [
      "qsub -N curve_model_527_safegraph_21 -P proj_covid -q d.q -b y -l m_mem_free=12G -l fthread=3 -o /share/temp/sgeoutput/covid/output/ -e /share/temp/sgeoutput/covid/errors/ /ihme/covid-19/miniconda/envs/covid-deaths-2020-04-24_13-45-44/bin/python /ihme/code/rmbarber/covid-model-deaths/src/covid_model_deaths/model.py --model_location_id 527 --data_file \"/ihme/covid-19/deaths/dev/2020_04_23_US_pipeline_rmb/model_data_safegraph_21/527.csv\" --cov_file \"/ihme/covid-19/deaths/dev/2020_04_23_US_pipeline_rmb/model_data_safegraph_21/527_covariate.csv\" --peaked_file \"/ihme/covid-19/deaths/mobility_inputs/2020_04_20/peak_locs_april20_.csv.csv\" --output_dir \"/ihme/covid-19/deaths/dev/2020_04_23_US_pipeline_rmb/model_data_safegraph_21/527\" --last_day_file \"/ihme/covid-19/deaths/dev/2020_04_23_US_pipeline_rmb/last_day.csv\" --covariate_effect gamma --n_draws=334\n",
      "Your job 40081836 (\"curve_model_527_safegraph_21\") has been submitted\n",
      "\n",
      "qsub -N curve_model_528_google_21 -P proj_covid -q d.q -b y -l m_mem_free=12G -l fthread=3 -o /share/temp/sgeoutput/covid/output/ -e /share/temp/sgeoutput/covid/errors/ /ihme/covid-19/miniconda/envs/covid-deaths-2020-04-24_13-45-44/bin/python /ihme/code/rmbarber/covid-model-deaths/src/covid_model_deaths/model.py --model_location_id 528 --data_file \"/ihme/covid-19/deaths/dev/2020_04_23_US_pipeline_rmb/model_data_google_21/528.csv\" --cov_file \"/ihme/covid-19/deaths/dev/2020_04_23_US_pipeline_rmb/model_data_google_21/528_covariate.csv\" --peaked_file \"/ihme/covid-19/deaths/mobility_inputs/2020_04_20/peak_locs_april20_.csv.csv\" --output_dir \"/ihme/covid-19/deaths/dev/2020_04_23_US_pipeline_rmb/model_data_google_21/528\" --last_day_file \"/ihme/covid-19/deaths/dev/2020_04_23_US_pipeline_rmb/last_day.csv\" --covariate_effect gamma --n_draws=333\n",
      "Your job 40081858 (\"curve_model_528_google_21\") has been submitted\n",
      "\n",
      "qsub -N curve_model_528_descartes_21 -P proj_covid -q d.q -b y -l m_mem_free=12G -l fthread=3 -o /share/temp/sgeoutput/covid/output/ -e /share/temp/sgeoutput/covid/errors/ /ihme/covid-19/miniconda/envs/covid-deaths-2020-04-24_13-45-44/bin/python /ihme/code/rmbarber/covid-model-deaths/src/covid_model_deaths/model.py --model_location_id 528 --data_file \"/ihme/covid-19/deaths/dev/2020_04_23_US_pipeline_rmb/model_data_descartes_21/528.csv\" --cov_file \"/ihme/covid-19/deaths/dev/2020_04_23_US_pipeline_rmb/model_data_descartes_21/528_covariate.csv\" --peaked_file \"/ihme/covid-19/deaths/mobility_inputs/2020_04_20/peak_locs_april20_.csv.csv\" --output_dir \"/ihme/covid-19/deaths/dev/2020_04_23_US_pipeline_rmb/model_data_descartes_21/528\" --last_day_file \"/ihme/covid-19/deaths/dev/2020_04_23_US_pipeline_rmb/last_day.csv\" --covariate_effect gamma --n_draws=333\n",
      "Your job 40081862 (\"curve_model_528_descartes_21\") has been submitted\n",
      "\n"
     ]
    },
    {
     "name": "stderr",
     "output_type": "stream",
     "text": [
      " 11%|█▏        | 6/53 [01:02<08:08, 10.40s/it]"
     ]
    },
    {
     "name": "stdout",
     "output_type": "stream",
     "text": [
      "qsub -N curve_model_528_safegraph_21 -P proj_covid -q d.q -b y -l m_mem_free=12G -l fthread=3 -o /share/temp/sgeoutput/covid/output/ -e /share/temp/sgeoutput/covid/errors/ /ihme/covid-19/miniconda/envs/covid-deaths-2020-04-24_13-45-44/bin/python /ihme/code/rmbarber/covid-model-deaths/src/covid_model_deaths/model.py --model_location_id 528 --data_file \"/ihme/covid-19/deaths/dev/2020_04_23_US_pipeline_rmb/model_data_safegraph_21/528.csv\" --cov_file \"/ihme/covid-19/deaths/dev/2020_04_23_US_pipeline_rmb/model_data_safegraph_21/528_covariate.csv\" --peaked_file \"/ihme/covid-19/deaths/mobility_inputs/2020_04_20/peak_locs_april20_.csv.csv\" --output_dir \"/ihme/covid-19/deaths/dev/2020_04_23_US_pipeline_rmb/model_data_safegraph_21/528\" --last_day_file \"/ihme/covid-19/deaths/dev/2020_04_23_US_pipeline_rmb/last_day.csv\" --covariate_effect gamma --n_draws=334\n",
      "Your job 40081865 (\"curve_model_528_safegraph_21\") has been submitted\n",
      "\n",
      "qsub -N curve_model_529_google_21 -P proj_covid -q d.q -b y -l m_mem_free=12G -l fthread=3 -o /share/temp/sgeoutput/covid/output/ -e /share/temp/sgeoutput/covid/errors/ /ihme/covid-19/miniconda/envs/covid-deaths-2020-04-24_13-45-44/bin/python /ihme/code/rmbarber/covid-model-deaths/src/covid_model_deaths/model.py --model_location_id 529 --data_file \"/ihme/covid-19/deaths/dev/2020_04_23_US_pipeline_rmb/model_data_google_21/529.csv\" --cov_file \"/ihme/covid-19/deaths/dev/2020_04_23_US_pipeline_rmb/model_data_google_21/529_covariate.csv\" --peaked_file \"/ihme/covid-19/deaths/mobility_inputs/2020_04_20/peak_locs_april20_.csv.csv\" --output_dir \"/ihme/covid-19/deaths/dev/2020_04_23_US_pipeline_rmb/model_data_google_21/529\" --last_day_file \"/ihme/covid-19/deaths/dev/2020_04_23_US_pipeline_rmb/last_day.csv\" --covariate_effect gamma --n_draws=333\n",
      "Your job 40081885 (\"curve_model_529_google_21\") has been submitted\n",
      "\n",
      "qsub -N curve_model_529_descartes_21 -P proj_covid -q d.q -b y -l m_mem_free=12G -l fthread=3 -o /share/temp/sgeoutput/covid/output/ -e /share/temp/sgeoutput/covid/errors/ /ihme/covid-19/miniconda/envs/covid-deaths-2020-04-24_13-45-44/bin/python /ihme/code/rmbarber/covid-model-deaths/src/covid_model_deaths/model.py --model_location_id 529 --data_file \"/ihme/covid-19/deaths/dev/2020_04_23_US_pipeline_rmb/model_data_descartes_21/529.csv\" --cov_file \"/ihme/covid-19/deaths/dev/2020_04_23_US_pipeline_rmb/model_data_descartes_21/529_covariate.csv\" --peaked_file \"/ihme/covid-19/deaths/mobility_inputs/2020_04_20/peak_locs_april20_.csv.csv\" --output_dir \"/ihme/covid-19/deaths/dev/2020_04_23_US_pipeline_rmb/model_data_descartes_21/529\" --last_day_file \"/ihme/covid-19/deaths/dev/2020_04_23_US_pipeline_rmb/last_day.csv\" --covariate_effect gamma --n_draws=333\n",
      "Your job 40081888 (\"curve_model_529_descartes_21\") has been submitted\n",
      "\n"
     ]
    },
    {
     "name": "stderr",
     "output_type": "stream",
     "text": [
      " 13%|█▎        | 7/53 [01:12<07:51, 10.26s/it]"
     ]
    },
    {
     "name": "stdout",
     "output_type": "stream",
     "text": [
      "qsub -N curve_model_529_safegraph_21 -P proj_covid -q d.q -b y -l m_mem_free=12G -l fthread=3 -o /share/temp/sgeoutput/covid/output/ -e /share/temp/sgeoutput/covid/errors/ /ihme/covid-19/miniconda/envs/covid-deaths-2020-04-24_13-45-44/bin/python /ihme/code/rmbarber/covid-model-deaths/src/covid_model_deaths/model.py --model_location_id 529 --data_file \"/ihme/covid-19/deaths/dev/2020_04_23_US_pipeline_rmb/model_data_safegraph_21/529.csv\" --cov_file \"/ihme/covid-19/deaths/dev/2020_04_23_US_pipeline_rmb/model_data_safegraph_21/529_covariate.csv\" --peaked_file \"/ihme/covid-19/deaths/mobility_inputs/2020_04_20/peak_locs_april20_.csv.csv\" --output_dir \"/ihme/covid-19/deaths/dev/2020_04_23_US_pipeline_rmb/model_data_safegraph_21/529\" --last_day_file \"/ihme/covid-19/deaths/dev/2020_04_23_US_pipeline_rmb/last_day.csv\" --covariate_effect gamma --n_draws=334\n",
      "Your job 40081889 (\"curve_model_529_safegraph_21\") has been submitted\n",
      "\n",
      "qsub -N curve_model_530_google_21 -P proj_covid -q d.q -b y -l m_mem_free=12G -l fthread=3 -o /share/temp/sgeoutput/covid/output/ -e /share/temp/sgeoutput/covid/errors/ /ihme/covid-19/miniconda/envs/covid-deaths-2020-04-24_13-45-44/bin/python /ihme/code/rmbarber/covid-model-deaths/src/covid_model_deaths/model.py --model_location_id 530 --data_file \"/ihme/covid-19/deaths/dev/2020_04_23_US_pipeline_rmb/model_data_google_21/530.csv\" --cov_file \"/ihme/covid-19/deaths/dev/2020_04_23_US_pipeline_rmb/model_data_google_21/530_covariate.csv\" --peaked_file \"/ihme/covid-19/deaths/mobility_inputs/2020_04_20/peak_locs_april20_.csv.csv\" --output_dir \"/ihme/covid-19/deaths/dev/2020_04_23_US_pipeline_rmb/model_data_google_21/530\" --last_day_file \"/ihme/covid-19/deaths/dev/2020_04_23_US_pipeline_rmb/last_day.csv\" --covariate_effect gamma --n_draws=333\n",
      "Your job 40081922 (\"curve_model_530_google_21\") has been submitted\n",
      "\n",
      "qsub -N curve_model_530_descartes_21 -P proj_covid -q d.q -b y -l m_mem_free=12G -l fthread=3 -o /share/temp/sgeoutput/covid/output/ -e /share/temp/sgeoutput/covid/errors/ /ihme/covid-19/miniconda/envs/covid-deaths-2020-04-24_13-45-44/bin/python /ihme/code/rmbarber/covid-model-deaths/src/covid_model_deaths/model.py --model_location_id 530 --data_file \"/ihme/covid-19/deaths/dev/2020_04_23_US_pipeline_rmb/model_data_descartes_21/530.csv\" --cov_file \"/ihme/covid-19/deaths/dev/2020_04_23_US_pipeline_rmb/model_data_descartes_21/530_covariate.csv\" --peaked_file \"/ihme/covid-19/deaths/mobility_inputs/2020_04_20/peak_locs_april20_.csv.csv\" --output_dir \"/ihme/covid-19/deaths/dev/2020_04_23_US_pipeline_rmb/model_data_descartes_21/530\" --last_day_file \"/ihme/covid-19/deaths/dev/2020_04_23_US_pipeline_rmb/last_day.csv\" --covariate_effect gamma --n_draws=333\n",
      "Your job 40081927 (\"curve_model_530_descartes_21\") has been submitted\n",
      "\n"
     ]
    },
    {
     "name": "stderr",
     "output_type": "stream",
     "text": [
      " 15%|█▌        | 8/53 [01:22<07:40, 10.23s/it]"
     ]
    },
    {
     "name": "stdout",
     "output_type": "stream",
     "text": [
      "qsub -N curve_model_530_safegraph_21 -P proj_covid -q d.q -b y -l m_mem_free=12G -l fthread=3 -o /share/temp/sgeoutput/covid/output/ -e /share/temp/sgeoutput/covid/errors/ /ihme/covid-19/miniconda/envs/covid-deaths-2020-04-24_13-45-44/bin/python /ihme/code/rmbarber/covid-model-deaths/src/covid_model_deaths/model.py --model_location_id 530 --data_file \"/ihme/covid-19/deaths/dev/2020_04_23_US_pipeline_rmb/model_data_safegraph_21/530.csv\" --cov_file \"/ihme/covid-19/deaths/dev/2020_04_23_US_pipeline_rmb/model_data_safegraph_21/530_covariate.csv\" --peaked_file \"/ihme/covid-19/deaths/mobility_inputs/2020_04_20/peak_locs_april20_.csv.csv\" --output_dir \"/ihme/covid-19/deaths/dev/2020_04_23_US_pipeline_rmb/model_data_safegraph_21/530\" --last_day_file \"/ihme/covid-19/deaths/dev/2020_04_23_US_pipeline_rmb/last_day.csv\" --covariate_effect gamma --n_draws=334\n",
      "Your job 40081932 (\"curve_model_530_safegraph_21\") has been submitted\n",
      "\n"
     ]
    },
    {
     "name": "stderr",
     "output_type": "stream",
     "text": [
      " 15%|█▌        | 8/53 [01:24<07:52, 10.50s/it]\n"
     ]
    },
    {
     "ename": "KeyboardInterrupt",
     "evalue": "",
     "output_type": "error",
     "traceback": [
      "\u001b[0;31m---------------------------------------------------------------------------\u001b[0m",
      "\u001b[0;31mKeyboardInterrupt\u001b[0m                         Traceback (most recent call last)",
      "\u001b[0;32m<ipython-input-11-c2603ab33f3d>\u001b[0m in \u001b[0;36m<module>\u001b[0;34m\u001b[0m\n\u001b[1;32m     18\u001b[0m submodel_dict = runner.submit_models(full_df, death_df, age_pop_df, age_death_df, date_mean_df, li_df,\n\u001b[1;32m     19\u001b[0m                                      \u001b[0mloc_df\u001b[0m\u001b[0;34m,\u001b[0m \u001b[0mr0_locs\u001b[0m\u001b[0;34m,\u001b[0m\u001b[0;34m\u001b[0m\u001b[0;34m\u001b[0m\u001b[0m\n\u001b[0;32m---> 20\u001b[0;31m                                      PEAK_FILE, OUTPUT_DIR, DATA_VERSION, R0_FILE, CODE_DIR, verbose=True)\n\u001b[0m\u001b[1;32m     21\u001b[0m \u001b[0;34m\u001b[0m\u001b[0m\n\u001b[1;32m     22\u001b[0m \u001b[0mcheckpoint\u001b[0m\u001b[0;34m.\u001b[0m\u001b[0mwrite\u001b[0m\u001b[0;34m(\u001b[0m\u001b[0;34m'submodel_dict'\u001b[0m\u001b[0;34m,\u001b[0m \u001b[0msubmodel_dict\u001b[0m\u001b[0;34m)\u001b[0m\u001b[0;34m\u001b[0m\u001b[0;34m\u001b[0m\u001b[0m\n",
      "\u001b[0;32m/ihme/code/rmbarber/covid-model-deaths/src/covid_model_deaths/runner.py\u001b[0m in \u001b[0;36msubmit_models\u001b[0;34m(full_df, death_df, age_pop_df, age_death_df, date_mean_df, li_df, loc_df, r0_locs, peak_file, output_directory, data_version, r0_file, code_dir, verbose)\u001b[0m\n\u001b[1;32m    228\u001b[0m         \u001b[0msubnat\u001b[0m \u001b[0;34m=\u001b[0m \u001b[0;32mnot\u001b[0m \u001b[0mlevel\u001b[0m \u001b[0;34m==\u001b[0m \u001b[0;36m0\u001b[0m\u001b[0;34m\u001b[0m\u001b[0;34m\u001b[0m\u001b[0m\n\u001b[1;32m    229\u001b[0m         mod = DeathModelData(death_df, age_pop_df, age_death_df, location_id, 'threshold',\n\u001b[0;32m--> 230\u001b[0;31m                              subnat=subnat, rate_threshold=cmd_globals.LN_MORTALITY_RATE_THRESHOLD)\n\u001b[0m\u001b[1;32m    231\u001b[0m         \u001b[0;32mif\u001b[0m \u001b[0mlocation_name\u001b[0m \u001b[0;32min\u001b[0m \u001b[0mnursing_home_locations\u001b[0m\u001b[0;34m:\u001b[0m\u001b[0;34m\u001b[0m\u001b[0;34m\u001b[0m\u001b[0m\n\u001b[1;32m    232\u001b[0m             \u001b[0;31m# save only nursing homes\u001b[0m\u001b[0;34m\u001b[0m\u001b[0;34m\u001b[0m\u001b[0;34m\u001b[0m\u001b[0m\n",
      "\u001b[0;32m/ihme/code/rmbarber/covid-model-deaths/src/covid_model_deaths/data.py\u001b[0m in \u001b[0;36m__init__\u001b[0;34m(self, df, age_pop_df, age_death_df, standardize_location_id, model_type, subnat, rate_threshold)\u001b[0m\n\u001b[1;32m    171\u001b[0m         \u001b[0;31m# keep above our threshold death rate, start counting days from there\u001b[0m\u001b[0;34m\u001b[0m\u001b[0;34m\u001b[0m\u001b[0;34m\u001b[0m\u001b[0m\n\u001b[1;32m    172\u001b[0m         \u001b[0mdf\u001b[0m \u001b[0;34m=\u001b[0m \u001b[0mdf\u001b[0m\u001b[0;34m.\u001b[0m\u001b[0mloc\u001b[0m\u001b[0;34m[\u001b[0m\u001b[0mdf\u001b[0m\u001b[0;34m[\u001b[0m\u001b[0;34m'ln(age-standardized death rate)'\u001b[0m\u001b[0;34m]\u001b[0m \u001b[0;34m>=\u001b[0m \u001b[0mrate_threshold\u001b[0m\u001b[0;34m]\u001b[0m\u001b[0;34m\u001b[0m\u001b[0;34m\u001b[0m\u001b[0m\n\u001b[0;32m--> 173\u001b[0;31m         \u001b[0mdf\u001b[0m\u001b[0;34m[\u001b[0m\u001b[0;34m'Day1'\u001b[0m\u001b[0;34m]\u001b[0m \u001b[0;34m=\u001b[0m \u001b[0mdf\u001b[0m\u001b[0;34m.\u001b[0m\u001b[0mgroupby\u001b[0m\u001b[0;34m(\u001b[0m\u001b[0;34m[\u001b[0m\u001b[0;34m'Country/Region'\u001b[0m\u001b[0;34m,\u001b[0m \u001b[0;34m'Location'\u001b[0m\u001b[0;34m]\u001b[0m\u001b[0;34m,\u001b[0m \u001b[0mas_index\u001b[0m\u001b[0;34m=\u001b[0m\u001b[0;32mFalse\u001b[0m\u001b[0;34m)\u001b[0m\u001b[0;34m[\u001b[0m\u001b[0;34m'Date'\u001b[0m\u001b[0;34m]\u001b[0m\u001b[0;34m.\u001b[0m\u001b[0mtransform\u001b[0m\u001b[0;34m(\u001b[0m\u001b[0;34m'min'\u001b[0m\u001b[0;34m)\u001b[0m\u001b[0;34m\u001b[0m\u001b[0;34m\u001b[0m\u001b[0m\n\u001b[0m\u001b[1;32m    174\u001b[0m         \u001b[0mdf\u001b[0m\u001b[0;34m[\u001b[0m\u001b[0;34m'Days'\u001b[0m\u001b[0;34m]\u001b[0m \u001b[0;34m=\u001b[0m \u001b[0mdf\u001b[0m\u001b[0;34m[\u001b[0m\u001b[0;34m'Date'\u001b[0m\u001b[0;34m]\u001b[0m \u001b[0;34m-\u001b[0m \u001b[0mdf\u001b[0m\u001b[0;34m[\u001b[0m\u001b[0;34m'Day1'\u001b[0m\u001b[0;34m]\u001b[0m\u001b[0;34m\u001b[0m\u001b[0;34m\u001b[0m\u001b[0m\n\u001b[1;32m    175\u001b[0m         \u001b[0mdf\u001b[0m\u001b[0;34m[\u001b[0m\u001b[0;34m'Days'\u001b[0m\u001b[0;34m]\u001b[0m \u001b[0;34m=\u001b[0m \u001b[0mdf\u001b[0m\u001b[0;34m[\u001b[0m\u001b[0;34m'Days'\u001b[0m\u001b[0;34m]\u001b[0m\u001b[0;34m.\u001b[0m\u001b[0mapply\u001b[0m\u001b[0;34m(\u001b[0m\u001b[0;32mlambda\u001b[0m \u001b[0mx\u001b[0m\u001b[0;34m:\u001b[0m \u001b[0mx\u001b[0m\u001b[0;34m.\u001b[0m\u001b[0mdays\u001b[0m\u001b[0;34m)\u001b[0m\u001b[0;34m\u001b[0m\u001b[0;34m\u001b[0m\u001b[0m\n",
      "\u001b[0;32m/ihme/covid-19/miniconda/envs/covid-deaths-2020-04-24_13-45-44/lib/python3.6/site-packages/pandas/core/groupby/generic.py\u001b[0m in \u001b[0;36mtransform\u001b[0;34m(self, func, *args, **kwargs)\u001b[0m\n\u001b[1;32m   1437\u001b[0m         \u001b[0;31m# nuisance columns\u001b[0m\u001b[0;34m\u001b[0m\u001b[0;34m\u001b[0m\u001b[0;34m\u001b[0m\u001b[0m\n\u001b[1;32m   1438\u001b[0m         \u001b[0;32mif\u001b[0m \u001b[0;32mnot\u001b[0m \u001b[0mresult\u001b[0m\u001b[0;34m.\u001b[0m\u001b[0mcolumns\u001b[0m\u001b[0;34m.\u001b[0m\u001b[0mequals\u001b[0m\u001b[0;34m(\u001b[0m\u001b[0mobj\u001b[0m\u001b[0;34m.\u001b[0m\u001b[0mcolumns\u001b[0m\u001b[0;34m)\u001b[0m\u001b[0;34m:\u001b[0m\u001b[0;34m\u001b[0m\u001b[0;34m\u001b[0m\u001b[0m\n\u001b[0;32m-> 1439\u001b[0;31m             \u001b[0;32mreturn\u001b[0m \u001b[0mself\u001b[0m\u001b[0;34m.\u001b[0m\u001b[0m_transform_general\u001b[0m\u001b[0;34m(\u001b[0m\u001b[0mfunc\u001b[0m\u001b[0;34m,\u001b[0m \u001b[0;34m*\u001b[0m\u001b[0margs\u001b[0m\u001b[0;34m,\u001b[0m \u001b[0;34m**\u001b[0m\u001b[0mkwargs\u001b[0m\u001b[0;34m)\u001b[0m\u001b[0;34m\u001b[0m\u001b[0;34m\u001b[0m\u001b[0m\n\u001b[0m\u001b[1;32m   1440\u001b[0m \u001b[0;34m\u001b[0m\u001b[0m\n\u001b[1;32m   1441\u001b[0m         \u001b[0;32mreturn\u001b[0m \u001b[0mself\u001b[0m\u001b[0;34m.\u001b[0m\u001b[0m_transform_fast\u001b[0m\u001b[0;34m(\u001b[0m\u001b[0mresult\u001b[0m\u001b[0;34m,\u001b[0m \u001b[0mfunc\u001b[0m\u001b[0;34m)\u001b[0m\u001b[0;34m\u001b[0m\u001b[0;34m\u001b[0m\u001b[0m\n",
      "\u001b[0;32m/ihme/covid-19/miniconda/envs/covid-deaths-2020-04-24_13-45-44/lib/python3.6/site-packages/pandas/core/groupby/generic.py\u001b[0m in \u001b[0;36m_transform_general\u001b[0;34m(self, func, *args, **kwargs)\u001b[0m\n\u001b[1;32m   1375\u001b[0m                     \u001b[0;32mraise\u001b[0m \u001b[0mValueError\u001b[0m\u001b[0;34m(\u001b[0m\u001b[0mmsg\u001b[0m\u001b[0;34m)\u001b[0m\u001b[0;34m\u001b[0m\u001b[0;34m\u001b[0m\u001b[0m\n\u001b[1;32m   1376\u001b[0m             \u001b[0;32melse\u001b[0m\u001b[0;34m:\u001b[0m\u001b[0;34m\u001b[0m\u001b[0;34m\u001b[0m\u001b[0m\n\u001b[0;32m-> 1377\u001b[0;31m                 \u001b[0mres\u001b[0m \u001b[0;34m=\u001b[0m \u001b[0mpath\u001b[0m\u001b[0;34m(\u001b[0m\u001b[0mgroup\u001b[0m\u001b[0;34m)\u001b[0m\u001b[0;34m\u001b[0m\u001b[0;34m\u001b[0m\u001b[0m\n\u001b[0m\u001b[1;32m   1378\u001b[0m \u001b[0;34m\u001b[0m\u001b[0m\n\u001b[1;32m   1379\u001b[0m             \u001b[0;32mif\u001b[0m \u001b[0misinstance\u001b[0m\u001b[0;34m(\u001b[0m\u001b[0mres\u001b[0m\u001b[0;34m,\u001b[0m \u001b[0mSeries\u001b[0m\u001b[0;34m)\u001b[0m\u001b[0;34m:\u001b[0m\u001b[0;34m\u001b[0m\u001b[0;34m\u001b[0m\u001b[0m\n",
      "\u001b[0;32m/ihme/covid-19/miniconda/envs/covid-deaths-2020-04-24_13-45-44/lib/python3.6/site-packages/pandas/core/groupby/generic.py\u001b[0m in \u001b[0;36m<lambda>\u001b[0;34m(group)\u001b[0m\n\u001b[1;32m   1469\u001b[0m             \u001b[0mfast_path\u001b[0m \u001b[0;34m=\u001b[0m \u001b[0;32mlambda\u001b[0m \u001b[0mgroup\u001b[0m\u001b[0;34m:\u001b[0m \u001b[0mgetattr\u001b[0m\u001b[0;34m(\u001b[0m\u001b[0mgroup\u001b[0m\u001b[0;34m,\u001b[0m \u001b[0mfunc\u001b[0m\u001b[0;34m)\u001b[0m\u001b[0;34m(\u001b[0m\u001b[0;34m*\u001b[0m\u001b[0margs\u001b[0m\u001b[0;34m,\u001b[0m \u001b[0;34m**\u001b[0m\u001b[0mkwargs\u001b[0m\u001b[0;34m)\u001b[0m\u001b[0;34m\u001b[0m\u001b[0;34m\u001b[0m\u001b[0m\n\u001b[1;32m   1470\u001b[0m             slow_path = lambda group: group.apply(\n\u001b[0;32m-> 1471\u001b[0;31m                 \u001b[0;32mlambda\u001b[0m \u001b[0mx\u001b[0m\u001b[0;34m:\u001b[0m \u001b[0mgetattr\u001b[0m\u001b[0;34m(\u001b[0m\u001b[0mx\u001b[0m\u001b[0;34m,\u001b[0m \u001b[0mfunc\u001b[0m\u001b[0;34m)\u001b[0m\u001b[0;34m(\u001b[0m\u001b[0;34m*\u001b[0m\u001b[0margs\u001b[0m\u001b[0;34m,\u001b[0m \u001b[0;34m**\u001b[0m\u001b[0mkwargs\u001b[0m\u001b[0;34m)\u001b[0m\u001b[0;34m,\u001b[0m \u001b[0maxis\u001b[0m\u001b[0;34m=\u001b[0m\u001b[0mself\u001b[0m\u001b[0;34m.\u001b[0m\u001b[0maxis\u001b[0m\u001b[0;34m\u001b[0m\u001b[0;34m\u001b[0m\u001b[0m\n\u001b[0m\u001b[1;32m   1472\u001b[0m             )\n\u001b[1;32m   1473\u001b[0m         \u001b[0;32melse\u001b[0m\u001b[0;34m:\u001b[0m\u001b[0;34m\u001b[0m\u001b[0;34m\u001b[0m\u001b[0m\n",
      "\u001b[0;32m/ihme/covid-19/miniconda/envs/covid-deaths-2020-04-24_13-45-44/lib/python3.6/site-packages/pandas/core/frame.py\u001b[0m in \u001b[0;36mapply\u001b[0;34m(self, func, axis, raw, result_type, args, **kwds)\u001b[0m\n\u001b[1;32m   6876\u001b[0m             \u001b[0mkwds\u001b[0m\u001b[0;34m=\u001b[0m\u001b[0mkwds\u001b[0m\u001b[0;34m,\u001b[0m\u001b[0;34m\u001b[0m\u001b[0;34m\u001b[0m\u001b[0m\n\u001b[1;32m   6877\u001b[0m         )\n\u001b[0;32m-> 6878\u001b[0;31m         \u001b[0;32mreturn\u001b[0m \u001b[0mop\u001b[0m\u001b[0;34m.\u001b[0m\u001b[0mget_result\u001b[0m\u001b[0;34m(\u001b[0m\u001b[0;34m)\u001b[0m\u001b[0;34m\u001b[0m\u001b[0;34m\u001b[0m\u001b[0m\n\u001b[0m\u001b[1;32m   6879\u001b[0m \u001b[0;34m\u001b[0m\u001b[0m\n\u001b[1;32m   6880\u001b[0m     \u001b[0;32mdef\u001b[0m \u001b[0mapplymap\u001b[0m\u001b[0;34m(\u001b[0m\u001b[0mself\u001b[0m\u001b[0;34m,\u001b[0m \u001b[0mfunc\u001b[0m\u001b[0;34m)\u001b[0m \u001b[0;34m->\u001b[0m \u001b[0;34m\"DataFrame\"\u001b[0m\u001b[0;34m:\u001b[0m\u001b[0;34m\u001b[0m\u001b[0;34m\u001b[0m\u001b[0m\n",
      "\u001b[0;32m/ihme/covid-19/miniconda/envs/covid-deaths-2020-04-24_13-45-44/lib/python3.6/site-packages/pandas/core/apply.py\u001b[0m in \u001b[0;36mget_result\u001b[0;34m(self)\u001b[0m\n\u001b[1;32m    184\u001b[0m             \u001b[0;32mreturn\u001b[0m \u001b[0mself\u001b[0m\u001b[0;34m.\u001b[0m\u001b[0mapply_raw\u001b[0m\u001b[0;34m(\u001b[0m\u001b[0;34m)\u001b[0m\u001b[0;34m\u001b[0m\u001b[0;34m\u001b[0m\u001b[0m\n\u001b[1;32m    185\u001b[0m \u001b[0;34m\u001b[0m\u001b[0m\n\u001b[0;32m--> 186\u001b[0;31m         \u001b[0;32mreturn\u001b[0m \u001b[0mself\u001b[0m\u001b[0;34m.\u001b[0m\u001b[0mapply_standard\u001b[0m\u001b[0;34m(\u001b[0m\u001b[0;34m)\u001b[0m\u001b[0;34m\u001b[0m\u001b[0;34m\u001b[0m\u001b[0m\n\u001b[0m\u001b[1;32m    187\u001b[0m \u001b[0;34m\u001b[0m\u001b[0m\n\u001b[1;32m    188\u001b[0m     \u001b[0;32mdef\u001b[0m \u001b[0mapply_empty_result\u001b[0m\u001b[0;34m(\u001b[0m\u001b[0mself\u001b[0m\u001b[0;34m)\u001b[0m\u001b[0;34m:\u001b[0m\u001b[0;34m\u001b[0m\u001b[0;34m\u001b[0m\u001b[0m\n",
      "\u001b[0;32m/ihme/covid-19/miniconda/envs/covid-deaths-2020-04-24_13-45-44/lib/python3.6/site-packages/pandas/core/apply.py\u001b[0m in \u001b[0;36mapply_standard\u001b[0;34m(self)\u001b[0m\n\u001b[1;32m    294\u001b[0m             \u001b[0;32mtry\u001b[0m\u001b[0;34m:\u001b[0m\u001b[0;34m\u001b[0m\u001b[0;34m\u001b[0m\u001b[0m\n\u001b[1;32m    295\u001b[0m                 result = libreduction.compute_reduction(\n\u001b[0;32m--> 296\u001b[0;31m                     \u001b[0mvalues\u001b[0m\u001b[0;34m,\u001b[0m \u001b[0mself\u001b[0m\u001b[0;34m.\u001b[0m\u001b[0mf\u001b[0m\u001b[0;34m,\u001b[0m \u001b[0maxis\u001b[0m\u001b[0;34m=\u001b[0m\u001b[0mself\u001b[0m\u001b[0;34m.\u001b[0m\u001b[0maxis\u001b[0m\u001b[0;34m,\u001b[0m \u001b[0mdummy\u001b[0m\u001b[0;34m=\u001b[0m\u001b[0mdummy\u001b[0m\u001b[0;34m,\u001b[0m \u001b[0mlabels\u001b[0m\u001b[0;34m=\u001b[0m\u001b[0mlabels\u001b[0m\u001b[0;34m\u001b[0m\u001b[0;34m\u001b[0m\u001b[0m\n\u001b[0m\u001b[1;32m    297\u001b[0m                 )\n\u001b[1;32m    298\u001b[0m             \u001b[0;32mexcept\u001b[0m \u001b[0mValueError\u001b[0m \u001b[0;32mas\u001b[0m \u001b[0merr\u001b[0m\u001b[0;34m:\u001b[0m\u001b[0;34m\u001b[0m\u001b[0;34m\u001b[0m\u001b[0m\n",
      "\u001b[0;32mpandas/_libs/reduction.pyx\u001b[0m in \u001b[0;36mpandas._libs.reduction.compute_reduction\u001b[0;34m()\u001b[0m\n",
      "\u001b[0;32mpandas/_libs/reduction.pyx\u001b[0m in \u001b[0;36mpandas._libs.reduction.Reducer.get_result\u001b[0;34m()\u001b[0m\n",
      "\u001b[0;32m/ihme/covid-19/miniconda/envs/covid-deaths-2020-04-24_13-45-44/lib/python3.6/site-packages/pandas/core/series.py\u001b[0m in \u001b[0;36m__init__\u001b[0;34m(self, data, index, dtype, name, copy, fastpath)\u001b[0m\n\u001b[1;32m    303\u001b[0m                     \u001b[0mdata\u001b[0m \u001b[0;34m=\u001b[0m \u001b[0mdata\u001b[0m\u001b[0;34m.\u001b[0m\u001b[0mcopy\u001b[0m\u001b[0;34m(\u001b[0m\u001b[0;34m)\u001b[0m\u001b[0;34m\u001b[0m\u001b[0;34m\u001b[0m\u001b[0m\n\u001b[1;32m    304\u001b[0m             \u001b[0;32melse\u001b[0m\u001b[0;34m:\u001b[0m\u001b[0;34m\u001b[0m\u001b[0;34m\u001b[0m\u001b[0m\n\u001b[0;32m--> 305\u001b[0;31m                 \u001b[0mdata\u001b[0m \u001b[0;34m=\u001b[0m \u001b[0msanitize_array\u001b[0m\u001b[0;34m(\u001b[0m\u001b[0mdata\u001b[0m\u001b[0;34m,\u001b[0m \u001b[0mindex\u001b[0m\u001b[0;34m,\u001b[0m \u001b[0mdtype\u001b[0m\u001b[0;34m,\u001b[0m \u001b[0mcopy\u001b[0m\u001b[0;34m,\u001b[0m \u001b[0mraise_cast_failure\u001b[0m\u001b[0;34m=\u001b[0m\u001b[0;32mTrue\u001b[0m\u001b[0;34m)\u001b[0m\u001b[0;34m\u001b[0m\u001b[0;34m\u001b[0m\u001b[0m\n\u001b[0m\u001b[1;32m    306\u001b[0m \u001b[0;34m\u001b[0m\u001b[0m\n\u001b[1;32m    307\u001b[0m                 \u001b[0mdata\u001b[0m \u001b[0;34m=\u001b[0m \u001b[0mSingleBlockManager\u001b[0m\u001b[0;34m(\u001b[0m\u001b[0mdata\u001b[0m\u001b[0;34m,\u001b[0m \u001b[0mindex\u001b[0m\u001b[0;34m,\u001b[0m \u001b[0mfastpath\u001b[0m\u001b[0;34m=\u001b[0m\u001b[0;32mTrue\u001b[0m\u001b[0;34m)\u001b[0m\u001b[0;34m\u001b[0m\u001b[0;34m\u001b[0m\u001b[0m\n",
      "\u001b[0;32m/ihme/covid-19/miniconda/envs/covid-deaths-2020-04-24_13-45-44/lib/python3.6/site-packages/pandas/core/construction.py\u001b[0m in \u001b[0;36msanitize_array\u001b[0;34m(data, index, dtype, copy, raise_cast_failure)\u001b[0m\n\u001b[1;32m    422\u001b[0m         \u001b[0;32melse\u001b[0m\u001b[0;34m:\u001b[0m\u001b[0;34m\u001b[0m\u001b[0;34m\u001b[0m\u001b[0m\n\u001b[1;32m    423\u001b[0m             \u001b[0;31m# we will try to copy be-definition here\u001b[0m\u001b[0;34m\u001b[0m\u001b[0;34m\u001b[0m\u001b[0;34m\u001b[0m\u001b[0m\n\u001b[0;32m--> 424\u001b[0;31m             \u001b[0msubarr\u001b[0m \u001b[0;34m=\u001b[0m \u001b[0m_try_cast\u001b[0m\u001b[0;34m(\u001b[0m\u001b[0mdata\u001b[0m\u001b[0;34m,\u001b[0m \u001b[0mdtype\u001b[0m\u001b[0;34m,\u001b[0m \u001b[0mcopy\u001b[0m\u001b[0;34m,\u001b[0m \u001b[0mraise_cast_failure\u001b[0m\u001b[0;34m)\u001b[0m\u001b[0;34m\u001b[0m\u001b[0;34m\u001b[0m\u001b[0m\n\u001b[0m\u001b[1;32m    425\u001b[0m \u001b[0;34m\u001b[0m\u001b[0m\n\u001b[1;32m    426\u001b[0m     \u001b[0;32melif\u001b[0m \u001b[0misinstance\u001b[0m\u001b[0;34m(\u001b[0m\u001b[0mdata\u001b[0m\u001b[0;34m,\u001b[0m \u001b[0mABCExtensionArray\u001b[0m\u001b[0;34m)\u001b[0m\u001b[0;34m:\u001b[0m\u001b[0;34m\u001b[0m\u001b[0;34m\u001b[0m\u001b[0m\n",
      "\u001b[0;32m/ihme/covid-19/miniconda/envs/covid-deaths-2020-04-24_13-45-44/lib/python3.6/site-packages/pandas/core/construction.py\u001b[0m in \u001b[0;36m_try_cast\u001b[0;34m(arr, dtype, copy, raise_cast_failure)\u001b[0m\n\u001b[1;32m    535\u001b[0m             \u001b[0msubarr\u001b[0m \u001b[0;34m=\u001b[0m \u001b[0mmaybe_cast_to_integer_array\u001b[0m\u001b[0;34m(\u001b[0m\u001b[0marr\u001b[0m\u001b[0;34m,\u001b[0m \u001b[0mdtype\u001b[0m\u001b[0;34m)\u001b[0m\u001b[0;34m\u001b[0m\u001b[0;34m\u001b[0m\u001b[0m\n\u001b[1;32m    536\u001b[0m \u001b[0;34m\u001b[0m\u001b[0m\n\u001b[0;32m--> 537\u001b[0;31m         \u001b[0msubarr\u001b[0m \u001b[0;34m=\u001b[0m \u001b[0mmaybe_cast_to_datetime\u001b[0m\u001b[0;34m(\u001b[0m\u001b[0marr\u001b[0m\u001b[0;34m,\u001b[0m \u001b[0mdtype\u001b[0m\u001b[0;34m)\u001b[0m\u001b[0;34m\u001b[0m\u001b[0;34m\u001b[0m\u001b[0m\n\u001b[0m\u001b[1;32m    538\u001b[0m         \u001b[0;31m# Take care in creating object arrays (but iterators are not\u001b[0m\u001b[0;34m\u001b[0m\u001b[0;34m\u001b[0m\u001b[0;34m\u001b[0m\u001b[0m\n\u001b[1;32m    539\u001b[0m         \u001b[0;31m# supported):\u001b[0m\u001b[0;34m\u001b[0m\u001b[0;34m\u001b[0m\u001b[0;34m\u001b[0m\u001b[0m\n",
      "\u001b[0;32m/ihme/covid-19/miniconda/envs/covid-deaths-2020-04-24_13-45-44/lib/python3.6/site-packages/pandas/core/dtypes/cast.py\u001b[0m in \u001b[0;36mmaybe_cast_to_datetime\u001b[0;34m(value, dtype, errors)\u001b[0m\n\u001b[1;32m   1273\u001b[0m                     \u001b[0;32mtry\u001b[0m\u001b[0;34m:\u001b[0m\u001b[0;34m\u001b[0m\u001b[0;34m\u001b[0m\u001b[0m\n\u001b[1;32m   1274\u001b[0m                         \u001b[0;32mif\u001b[0m \u001b[0mis_datetime64\u001b[0m\u001b[0;34m:\u001b[0m\u001b[0;34m\u001b[0m\u001b[0;34m\u001b[0m\u001b[0m\n\u001b[0;32m-> 1275\u001b[0;31m                             \u001b[0mvalue\u001b[0m \u001b[0;34m=\u001b[0m \u001b[0mto_datetime\u001b[0m\u001b[0;34m(\u001b[0m\u001b[0mvalue\u001b[0m\u001b[0;34m,\u001b[0m \u001b[0merrors\u001b[0m\u001b[0;34m=\u001b[0m\u001b[0merrors\u001b[0m\u001b[0;34m)\u001b[0m\u001b[0;34m\u001b[0m\u001b[0;34m\u001b[0m\u001b[0m\n\u001b[0m\u001b[1;32m   1276\u001b[0m                             \u001b[0;31m# GH 25843: Remove tz information since the dtype\u001b[0m\u001b[0;34m\u001b[0m\u001b[0;34m\u001b[0m\u001b[0;34m\u001b[0m\u001b[0m\n\u001b[1;32m   1277\u001b[0m                             \u001b[0;31m# didn't specify one\u001b[0m\u001b[0;34m\u001b[0m\u001b[0;34m\u001b[0m\u001b[0;34m\u001b[0m\u001b[0m\n",
      "\u001b[0;32m/ihme/covid-19/miniconda/envs/covid-deaths-2020-04-24_13-45-44/lib/python3.6/site-packages/pandas/core/tools/datetimes.py\u001b[0m in \u001b[0;36mto_datetime\u001b[0;34m(arg, errors, dayfirst, yearfirst, utc, format, exact, unit, infer_datetime_format, origin, cache)\u001b[0m\n\u001b[1;32m    752\u001b[0m             \u001b[0mresult\u001b[0m \u001b[0;34m=\u001b[0m \u001b[0m_convert_and_box_cache\u001b[0m\u001b[0;34m(\u001b[0m\u001b[0marg\u001b[0m\u001b[0;34m,\u001b[0m \u001b[0mcache_array\u001b[0m\u001b[0;34m)\u001b[0m\u001b[0;34m\u001b[0m\u001b[0;34m\u001b[0m\u001b[0m\n\u001b[1;32m    753\u001b[0m         \u001b[0;32melse\u001b[0m\u001b[0;34m:\u001b[0m\u001b[0;34m\u001b[0m\u001b[0;34m\u001b[0m\u001b[0m\n\u001b[0;32m--> 754\u001b[0;31m             \u001b[0mresult\u001b[0m \u001b[0;34m=\u001b[0m \u001b[0mconvert_listlike\u001b[0m\u001b[0;34m(\u001b[0m\u001b[0marg\u001b[0m\u001b[0;34m,\u001b[0m \u001b[0mformat\u001b[0m\u001b[0;34m)\u001b[0m\u001b[0;34m\u001b[0m\u001b[0;34m\u001b[0m\u001b[0m\n\u001b[0m\u001b[1;32m    755\u001b[0m     \u001b[0;32melse\u001b[0m\u001b[0;34m:\u001b[0m\u001b[0;34m\u001b[0m\u001b[0;34m\u001b[0m\u001b[0m\n\u001b[1;32m    756\u001b[0m         \u001b[0mresult\u001b[0m \u001b[0;34m=\u001b[0m \u001b[0mconvert_listlike\u001b[0m\u001b[0;34m(\u001b[0m\u001b[0mnp\u001b[0m\u001b[0;34m.\u001b[0m\u001b[0marray\u001b[0m\u001b[0;34m(\u001b[0m\u001b[0;34m[\u001b[0m\u001b[0marg\u001b[0m\u001b[0;34m]\u001b[0m\u001b[0;34m)\u001b[0m\u001b[0;34m,\u001b[0m \u001b[0mformat\u001b[0m\u001b[0;34m)\u001b[0m\u001b[0;34m[\u001b[0m\u001b[0;36m0\u001b[0m\u001b[0;34m]\u001b[0m\u001b[0;34m\u001b[0m\u001b[0;34m\u001b[0m\u001b[0m\n",
      "\u001b[0;32m/ihme/covid-19/miniconda/envs/covid-deaths-2020-04-24_13-45-44/lib/python3.6/site-packages/pandas/core/tools/datetimes.py\u001b[0m in \u001b[0;36m_convert_listlike_datetimes\u001b[0;34m(arg, format, name, tz, unit, errors, infer_datetime_format, dayfirst, yearfirst, exact)\u001b[0m\n\u001b[1;32m    306\u001b[0m         \u001b[0;32mif\u001b[0m \u001b[0;32mnot\u001b[0m \u001b[0misinstance\u001b[0m\u001b[0;34m(\u001b[0m\u001b[0marg\u001b[0m\u001b[0;34m,\u001b[0m \u001b[0;34m(\u001b[0m\u001b[0mDatetimeArray\u001b[0m\u001b[0;34m,\u001b[0m \u001b[0mDatetimeIndex\u001b[0m\u001b[0;34m)\u001b[0m\u001b[0;34m)\u001b[0m\u001b[0;34m:\u001b[0m\u001b[0;34m\u001b[0m\u001b[0;34m\u001b[0m\u001b[0m\n\u001b[1;32m    307\u001b[0m             \u001b[0;32mtry\u001b[0m\u001b[0;34m:\u001b[0m\u001b[0;34m\u001b[0m\u001b[0;34m\u001b[0m\u001b[0m\n\u001b[0;32m--> 308\u001b[0;31m                 \u001b[0;32mreturn\u001b[0m \u001b[0mDatetimeIndex\u001b[0m\u001b[0;34m(\u001b[0m\u001b[0marg\u001b[0m\u001b[0;34m,\u001b[0m \u001b[0mtz\u001b[0m\u001b[0;34m=\u001b[0m\u001b[0mtz\u001b[0m\u001b[0;34m,\u001b[0m \u001b[0mname\u001b[0m\u001b[0;34m=\u001b[0m\u001b[0mname\u001b[0m\u001b[0;34m)\u001b[0m\u001b[0;34m\u001b[0m\u001b[0;34m\u001b[0m\u001b[0m\n\u001b[0m\u001b[1;32m    309\u001b[0m             \u001b[0;32mexcept\u001b[0m \u001b[0mValueError\u001b[0m\u001b[0;34m:\u001b[0m\u001b[0;34m\u001b[0m\u001b[0;34m\u001b[0m\u001b[0m\n\u001b[1;32m    310\u001b[0m                 \u001b[0;32mpass\u001b[0m\u001b[0;34m\u001b[0m\u001b[0;34m\u001b[0m\u001b[0m\n",
      "\u001b[0;32m/ihme/covid-19/miniconda/envs/covid-deaths-2020-04-24_13-45-44/lib/python3.6/site-packages/pandas/core/indexes/datetimes.py\u001b[0m in \u001b[0;36m__new__\u001b[0;34m(cls, data, freq, tz, normalize, closed, ambiguous, dayfirst, yearfirst, dtype, copy, name)\u001b[0m\n\u001b[1;32m    251\u001b[0m             \u001b[0mdayfirst\u001b[0m\u001b[0;34m=\u001b[0m\u001b[0mdayfirst\u001b[0m\u001b[0;34m,\u001b[0m\u001b[0;34m\u001b[0m\u001b[0;34m\u001b[0m\u001b[0m\n\u001b[1;32m    252\u001b[0m             \u001b[0myearfirst\u001b[0m\u001b[0;34m=\u001b[0m\u001b[0myearfirst\u001b[0m\u001b[0;34m,\u001b[0m\u001b[0;34m\u001b[0m\u001b[0;34m\u001b[0m\u001b[0m\n\u001b[0;32m--> 253\u001b[0;31m             \u001b[0mambiguous\u001b[0m\u001b[0;34m=\u001b[0m\u001b[0mambiguous\u001b[0m\u001b[0;34m,\u001b[0m\u001b[0;34m\u001b[0m\u001b[0;34m\u001b[0m\u001b[0m\n\u001b[0m\u001b[1;32m    254\u001b[0m         )\n\u001b[1;32m    255\u001b[0m \u001b[0;34m\u001b[0m\u001b[0m\n",
      "\u001b[0;32m/ihme/covid-19/miniconda/envs/covid-deaths-2020-04-24_13-45-44/lib/python3.6/site-packages/pandas/core/arrays/datetimes.py\u001b[0m in \u001b[0;36m_from_sequence\u001b[0;34m(cls, data, dtype, copy, tz, freq, dayfirst, yearfirst, ambiguous)\u001b[0m\n\u001b[1;32m    318\u001b[0m             \u001b[0mdayfirst\u001b[0m\u001b[0;34m=\u001b[0m\u001b[0mdayfirst\u001b[0m\u001b[0;34m,\u001b[0m\u001b[0;34m\u001b[0m\u001b[0;34m\u001b[0m\u001b[0m\n\u001b[1;32m    319\u001b[0m             \u001b[0myearfirst\u001b[0m\u001b[0;34m=\u001b[0m\u001b[0myearfirst\u001b[0m\u001b[0;34m,\u001b[0m\u001b[0;34m\u001b[0m\u001b[0;34m\u001b[0m\u001b[0m\n\u001b[0;32m--> 320\u001b[0;31m             \u001b[0mambiguous\u001b[0m\u001b[0;34m=\u001b[0m\u001b[0mambiguous\u001b[0m\u001b[0;34m,\u001b[0m\u001b[0;34m\u001b[0m\u001b[0;34m\u001b[0m\u001b[0m\n\u001b[0m\u001b[1;32m    321\u001b[0m         )\n\u001b[1;32m    322\u001b[0m \u001b[0;34m\u001b[0m\u001b[0m\n",
      "\u001b[0;32m/ihme/covid-19/miniconda/envs/covid-deaths-2020-04-24_13-45-44/lib/python3.6/site-packages/pandas/core/arrays/datetimes.py\u001b[0m in \u001b[0;36msequence_to_dt64ns\u001b[0;34m(data, dtype, copy, tz, dayfirst, yearfirst, ambiguous)\u001b[0m\n\u001b[1;32m   1766\u001b[0m     \u001b[0;32melif\u001b[0m \u001b[0mis_datetime64_dtype\u001b[0m\u001b[0;34m(\u001b[0m\u001b[0mdata\u001b[0m\u001b[0;34m)\u001b[0m\u001b[0;34m:\u001b[0m\u001b[0;34m\u001b[0m\u001b[0;34m\u001b[0m\u001b[0m\n\u001b[1;32m   1767\u001b[0m         \u001b[0;31m# tz-naive DatetimeArray or ndarray[datetime64]\u001b[0m\u001b[0;34m\u001b[0m\u001b[0;34m\u001b[0m\u001b[0;34m\u001b[0m\u001b[0m\n\u001b[0;32m-> 1768\u001b[0;31m         \u001b[0mdata\u001b[0m \u001b[0;34m=\u001b[0m \u001b[0mgetattr\u001b[0m\u001b[0;34m(\u001b[0m\u001b[0mdata\u001b[0m\u001b[0;34m,\u001b[0m \u001b[0;34m\"_data\"\u001b[0m\u001b[0;34m,\u001b[0m \u001b[0mdata\u001b[0m\u001b[0;34m)\u001b[0m\u001b[0;34m\u001b[0m\u001b[0;34m\u001b[0m\u001b[0m\n\u001b[0m\u001b[1;32m   1769\u001b[0m         \u001b[0;32mif\u001b[0m \u001b[0mdata\u001b[0m\u001b[0;34m.\u001b[0m\u001b[0mdtype\u001b[0m \u001b[0;34m!=\u001b[0m \u001b[0m_NS_DTYPE\u001b[0m\u001b[0;34m:\u001b[0m\u001b[0;34m\u001b[0m\u001b[0;34m\u001b[0m\u001b[0m\n\u001b[1;32m   1770\u001b[0m             \u001b[0mdata\u001b[0m \u001b[0;34m=\u001b[0m \u001b[0mconversion\u001b[0m\u001b[0;34m.\u001b[0m\u001b[0mensure_datetime64ns\u001b[0m\u001b[0;34m(\u001b[0m\u001b[0mdata\u001b[0m\u001b[0;34m)\u001b[0m\u001b[0;34m\u001b[0m\u001b[0;34m\u001b[0m\u001b[0m\n",
      "\u001b[0;31mKeyboardInterrupt\u001b[0m: "
     ]
    }
   ],
   "source": [
    "full_df = checkpoint.load('full_data')\n",
    "death_df = checkpoint.load('deaths')\n",
    "age_pop_df = checkpoint.load('age_pop')\n",
    "age_death_df = checkpoint.load('age_death')\n",
    "date_mean_df = checkpoint.load('date_mean')\n",
    "last_day_df = checkpoint.load('last_day')\n",
    "loc_df = checkpoint.load('location')\n",
    "\n",
    "dcr_df, dhr_df, li_df = runner.make_leading_indicator(\n",
    "    full_df.loc[full_df[COLUMNS.location_id].isin(loc_df[COLUMNS.location_id].to_list())]\n",
    ")\n",
    "dcr_df.to_csv(f'{OUTPUT_DIR}/lagged_death_to_case_ratios.csv', index=False)\n",
    "dhr_df.to_csv(f'{OUTPUT_DIR}/lagged_death_to_hosp_ratios.csv', index=False)\n",
    "li_df.to_csv(f'{OUTPUT_DIR}/leading_indicator.csv', index=False)\n",
    "li_df = li_df[[COLUMNS.location_id, COLUMNS.date, COLUMNS.ln_age_death_rate]]\n",
    "li_df = li_df.loc[~li_df[COLUMNS.ln_age_death_rate].isnull()]\n",
    "\n",
    "submodel_dict = runner.submit_models(full_df, death_df, age_pop_df, age_death_df, date_mean_df, li_df,\n",
    "                                     loc_df, r0_locs,\n",
    "                                     PEAK_FILE, OUTPUT_DIR, DATA_VERSION, R0_FILE, CODE_DIR, verbose=True)\n",
    "\n",
    "checkpoint.write('submodel_dict', submodel_dict)"
   ]
  },
  {
   "cell_type": "markdown",
   "metadata": {},
   "source": [
    "## compile draws"
   ]
  },
  {
   "cell_type": "code",
   "execution_count": null,
   "metadata": {},
   "outputs": [],
   "source": [
    "full_df = checkpoint.load('full_data')\n",
    "age_pop_df = checkpoint.load('age_pop')\n",
    "threshold_dates = checkpoint.load('threshold_dates')\n",
    "submodel_dict = checkpoint.load('submodel_dict')\n",
    "loc_df = checkpoint.load('location')\n",
    "\n",
    "obs_df = full_df[full_df.location_id.isin(loc_df.location_id)]\n",
    "\n",
    "draw_dfs, past_draw_dfs, models_used, days, ensemble_draws_dfs = runner.compile_draws(loc_df,\n",
    "                                                                                      submodel_dict,\n",
    "                                                                                      obs_df,\n",
    "                                                                                      threshold_dates,\n",
    "                                                                                      age_pop_df)\n",
    "\n",
    "if 'location' not in models_used:\n",
    "    raise ValueError('No location-specific draws used, must be using wrong tag')\n",
    "draw_df = pd.concat(draw_dfs)\n",
    "model_type_df = pd.DataFrame({'location': loc_df['Location'].tolist(),\n",
    "                              'model_used': models_used})\n",
    "\n",
    "# write\n",
    "draw_df.to_csv(f'{OUTPUT_DIR}/state_data.csv', index=False)\n",
    "model_type_df.to_csv(f'{OUTPUT_DIR}/state_models_used.csv', index=False)\n",
    "ensemble_plot_path = runner.make_and_save_draw_plots(OUTPUT_DIR, loc_df,\n",
    "                                                     ensemble_draws_dfs, days, models_used, age_pop_df)\n",
    "print(ensemble_plot_path)\n",
    "checkpoint.write('draw_data', draw_df)"
   ]
  },
  {
   "cell_type": "markdown",
   "metadata": {},
   "source": [
    "## total US deaths in this run"
   ]
  },
  {
   "cell_type": "code",
   "execution_count": null,
   "metadata": {},
   "outputs": [],
   "source": [
    "draw_df = checkpoint.load('draw_data')\n",
    "\n",
    "runner.display_total_deaths(draw_df)"
   ]
  },
  {
   "cell_type": "markdown",
   "metadata": {},
   "source": [
    "## combine with previous predictions"
   ]
  },
  {
   "cell_type": "code",
   "execution_count": null,
   "metadata": {},
   "outputs": [],
   "source": [
    "## ## ## ## ## ## ## ## ## ## ## ## ## ## ## ## ## ## ## ## ## ## ## ##\n",
    "raw_draw_path = f'{OUTPUT_DIR}/state_data.csv'\n",
    "average_draw_path = f'{OUTPUT_DIR}/past_avg_state_data.csv'\n",
    "yesterday_draw_path = '/ihme/covid-19/deaths/prod/2020_04_22_US/state_data.csv'\n",
    "before_yesterday_draw_path = '/ihme/covid-19/deaths/prod/2020_04_21_US/state_data.csv'\n",
    "## ## ## ## ## ## ## ## ## ## ## ## ## ## ## ## ## ## ## ## ## ## ## ##\n",
    "\n",
    "avg_df = runner.average_draws(raw_draw_path, yesterday_draw_path, before_yesterday_draw_path)\n",
    "\n",
    "## NO NEED TO DO THIS, FOR NOW ##\n",
    "# avg_df = get_peak_date(past_draw_df, avg_df)\n",
    "\n",
    "# store data\n",
    "avg_df.to_csv(average_draw_path, index=False)\n",
    "print(average_draw_path)\n",
    "\n",
    "# plot\n",
    "compare_average_plot_path = runner.make_and_save_compare_average_plots(OUTPUT_DIR,\n",
    "                                                                       raw_draw_path,\n",
    "                                                                       average_draw_path,\n",
    "                                                                       yesterday_draw_path,\n",
    "                                                                       before_yesterday_draw_path,\n",
    "                                                                       'United States of America')\n",
    "print(compare_average_plot_path)\n"
   ]
  },
  {
   "cell_type": "code",
   "execution_count": null,
   "metadata": {},
   "outputs": [],
   "source": [
    "raw_draw_path = f'{OUTPUT_DIR}/state_data.csv'\n",
    "previous_draw_path = '/ihme/covid-19/deaths/prod/2020_04_22_US/state_data.csv'\n",
    "\n",
    "compare_to_previous_plot_path = runner.make_and_save_compare_to_previous_plots(OUTPUT_DIR, raw_draw_path, previous_draw_path, label='United States')\n"
   ]
  },
  {
   "cell_type": "code",
   "execution_count": null,
   "metadata": {},
   "outputs": [],
   "source": [
    "\n",
    "viz_dir = runner.send_plots_to_diagnostics(DATESTAMP_LABEL,\n",
    "                                           f'{OUTPUT_DIR}/ensemble_plot.pdf',\n",
    "                                           compare_average_plot_path,\n",
    "                                           compare_to_previous_plot_path)\n",
    "print(viz_dir)\n",
    "\n"
   ]
  },
  {
   "cell_type": "code",
   "execution_count": null,
   "metadata": {},
   "outputs": [],
   "source": []
  }
 ],
 "metadata": {
  "kernelspec": {
   "display_name": "Python 3",
   "language": "python",
   "name": "python3"
  },
  "language_info": {
   "codemirror_mode": {
    "name": "ipython",
    "version": 3
   },
   "file_extension": ".py",
   "mimetype": "text/x-python",
   "name": "python",
   "nbconvert_exporter": "python",
   "pygments_lexer": "ipython3",
   "version": "3.6.10"
  }
 },
 "nbformat": 4,
 "nbformat_minor": 4
}
