{
 "cells": [
  {
   "cell_type": "code",
   "execution_count": null,
   "metadata": {},
   "outputs": [],
   "source": [
    "import os\n",
    "import sys\n",
    "\n",
    "import pandas as pd\n",
    "import numpy as np\n",
    "\n",
    "import matplotlib.pyplot as plt\n",
    "\n",
    "DESCARTES_DIR = '/ihme/code/rmbarber/DL-COVID-19'\n"
   ]
  },
  {
   "cell_type": "markdown",
   "metadata": {},
   "source": [
    "## read in Descartes data"
   ]
  },
  {
   "cell_type": "code",
   "execution_count": null,
   "metadata": {},
   "outputs": [],
   "source": [
    "df = pd.read_csv(f'{DESCARTES_DIR}/DL-us-mobility-daterow.csv')\n",
    "df = df.loc[(df['country_code'] == 'US') & (df['admin_level'] == 1)]\n",
    "df['date'] = pd.to_datetime(df['date'])\n",
    "df = df.rename(index=str, columns={'admin1':'Location'})\n",
    "df = df[['Location', 'date', 'm50_index']]\n",
    "\n",
    "# cap index at 100 (based on mobility relative to a window from 02/17-03/07)\n",
    "df.loc[df['m50_index'] > 100, 'm50_index'] = 100\n",
    "df['m50_index'] = df['m50_index'] / 100\n"
   ]
  },
  {
   "cell_type": "markdown",
   "metadata": {},
   "source": [
    "## compare IHME covariate to mobility data"
   ]
  },
  {
   "cell_type": "code",
   "execution_count": null,
   "metadata": {},
   "outputs": [],
   "source": [
    "for scheme in ['equal', 'ascmid', 'ascmax']:\n",
    "    cov_df = pd.read_csv(f'/ihme/covid-19/deaths/prod/2020_04_08_US/model_data_{scheme}_21/New York covariate.csv')\n",
    "    cov_df = cov_df.loc[cov_df['Country/Region'] == 'United States of America', \n",
    "                        ['Location', 'cov_1w', 'threshold_date']]\n",
    "    cov_df['threshold_date'] = pd.to_datetime(cov_df['threshold_date'])\n",
    "\n",
    "    plot_df = df.merge(cov_df[['Location', 'threshold_date']])\n",
    "    plot_df = plot_df.loc[plot_df['date'] >= plot_df['threshold_date']]\n",
    "    plot_df = plot_df.groupby(['Location'], as_index=False)['m50_index'].sum()\n",
    "\n",
    "    plot_df = plot_df.merge(cov_df[['Location', 'cov_1w']])\n",
    "\n",
    "    plt.scatter(plot_df['cov_1w'], plot_df['m50_index'] / 6)\n",
    "    plt.xlabel(f'Closure covariate')\n",
    "    plt.ylabel('Desctartes')\n",
    "    plt.title(f\"{scheme}: {np.corrcoef(plot_df['cov_1w'], plot_df['m50_index'])[0,1]}\")\n",
    "    plt.show()\n"
   ]
  },
  {
   "cell_type": "markdown",
   "metadata": {},
   "source": [
    "## keep after threshold and add up days"
   ]
  },
  {
   "cell_type": "code",
   "execution_count": null,
   "metadata": {},
   "outputs": [],
   "source": []
  },
  {
   "cell_type": "code",
   "execution_count": null,
   "metadata": {},
   "outputs": [],
   "source": []
  },
  {
   "cell_type": "code",
   "execution_count": null,
   "metadata": {},
   "outputs": [],
   "source": []
  }
 ],
 "metadata": {
  "kernelspec": {
   "display_name": "Python 3",
   "language": "python",
   "name": "python3"
  },
  "language_info": {
   "codemirror_mode": {
    "name": "ipython",
    "version": 3
   },
   "file_extension": ".py",
   "mimetype": "text/x-python",
   "name": "python",
   "nbconvert_exporter": "python",
   "pygments_lexer": "ipython3",
   "version": "3.6.7"
  }
 },
 "nbformat": 4,
 "nbformat_minor": 4
}
