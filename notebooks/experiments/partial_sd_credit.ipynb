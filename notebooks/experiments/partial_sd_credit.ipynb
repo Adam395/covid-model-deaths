{
 "cells": [
  {
   "cell_type": "code",
   "execution_count": null,
   "metadata": {},
   "outputs": [],
   "source": [
    "import pandas as pd\n",
    "import matplotlib.pyplot as plt\n"
   ]
  },
  {
   "cell_type": "code",
   "execution_count": null,
   "metadata": {},
   "outputs": [],
   "source": [
    "equal_df = pd.read_csv('/ihme/covid-19/deaths/dev/2020_04_11_Europe_new_cov/model_data_equal_21/Belgium covariate.csv')\n",
    "equal_df = equal_df.rename(index=str, columns={'cov_1w':'first_three_equal'})\n",
    "google_df = pd.read_csv('/ihme/covid-19/deaths/dev/2020_04_11_Europe_new_cov/model_data_google_21/Belgium covariate.csv')\n",
    "google_df = google_df.rename(index=str, columns={'cov_1w':'google'})\n"
   ]
  },
  {
   "cell_type": "code",
   "execution_count": null,
   "metadata": {},
   "outputs": [],
   "source": [
    "df = equal_df[['Location', 'Country/Region', 'first_three_equal']].merge(\n",
    "    google_df[['Location', 'Country/Region', 'google']]\n",
    ")\n"
   ]
  },
  {
   "cell_type": "code",
   "execution_count": null,
   "metadata": {},
   "outputs": [],
   "source": [
    "plt.figure(figsize=(11, 8.5))\n",
    "plt.plot((-0.5, 2.0), (-0.5, 2.0), color='red')\n",
    "plt.scatter(df['first_three_equal'], df['google'])\n",
    "plt.show()"
   ]
  },
  {
   "cell_type": "code",
   "execution_count": null,
   "metadata": {},
   "outputs": [],
   "source": [
    "df.loc[df['Location'] == 'Netherlands']"
   ]
  },
  {
   "cell_type": "code",
   "execution_count": null,
   "metadata": {},
   "outputs": [],
   "source": [
    "df.loc[np.round(df['first_three_equal'], 2)+0.1 < np.round(df['google'], 2)]"
   ]
  },
  {
   "cell_type": "code",
   "execution_count": null,
   "metadata": {},
   "outputs": [],
   "source": []
  }
 ],
 "metadata": {
  "kernelspec": {
   "display_name": "Python 3",
   "language": "python",
   "name": "python3"
  },
  "language_info": {
   "codemirror_mode": {
    "name": "ipython",
    "version": 3
   },
   "file_extension": ".py",
   "mimetype": "text/x-python",
   "name": "python",
   "nbconvert_exporter": "python",
   "pygments_lexer": "ipython3",
   "version": "3.6.10"
  }
 },
 "nbformat": 4,
 "nbformat_minor": 4
}
