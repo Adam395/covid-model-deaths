{
 "cells": [
  {
   "cell_type": "code",
   "execution_count": null,
   "metadata": {},
   "outputs": [],
   "source": [
    "import os\n",
    "import sys\n",
    "import time\n",
    "\n",
    "import dill as pickle\n",
    "\n",
    "import functools\n",
    "import operator\n",
    "from datetime import datetime, timedelta\n",
    "\n",
    "import numpy as np\n",
    "import pandas as pd\n",
    "pd.options.display.max_rows = 999\n",
    "pd.options.display.max_columns = 99\n",
    "import matplotlib.pyplot as plt\n",
    "from matplotlib.backends.backend_pdf import PdfPages\n",
    "\n",
    "sys.path.append('..')\n",
    "from data import get_input_data, plot_crude_rates\n",
    "from drawer import Drawer\n",
    "from utilities import CompareModelDeaths, COV_SETTINGS, KS, RATE_THRESHOLD, submit_curvefit\n",
    "\n",
    "import warnings\n",
    "warnings.simplefilter('ignore')\n",
    "\n",
    "RUN_TYPE = 'prod'\n",
    "ENV = 'prod'\n",
    "DATESTAMP_LABEL = '2020_04_07_US'\n",
    "DATA_VERSION = '2020_04_07.1'\n"
   ]
  },
  {
   "cell_type": "code",
   "execution_count": null,
   "metadata": {},
   "outputs": [],
   "source": [
    "CODE_DIR = os.path.abspath('')\n",
    "OUTPUT_DIR = f'/ihme/covid-19/deaths/{RUN_TYPE}/{DATESTAMP_LABEL}'\n",
    "\n",
    "if not os.path.exists(OUTPUT_DIR):\n",
    "    os.mkdir(OUTPUT_DIR)\n",
    "print(f'Writing to {OUTPUT_DIR}')\n"
   ]
  },
  {
   "cell_type": "code",
   "execution_count": null,
   "metadata": {},
   "outputs": [],
   "source": [
    "# come up with more informative names...\n",
    "input_full_df = get_input_data('full_data', DATA_VERSION)\n",
    "input_death_df = get_input_data('deaths', DATA_VERSION)\n",
    "# # Dropping recent Montana data due to slow growth resulting in implausible backcast\n",
    "# input_death_df = input_death_df.loc[(input_death_df['Location']!=\"Montana\") | (input_death_df['Date'] < pd.Timestamp(\"2020-04-01\"))]\n",
    "input_age_pop_df = get_input_data('age_pop', DATA_VERSION)\n",
    "input_age_death_df = get_input_data('age_death', DATA_VERSION)\n"
   ]
  },
  {
   "cell_type": "markdown",
   "metadata": {},
   "source": [
    "## get date df"
   ]
  },
  {
   "cell_type": "code",
   "execution_count": null,
   "metadata": {},
   "outputs": [],
   "source": [
    "date_df = pd.read_csv(f'{OUTPUT_DIR}/threshold_dates.csv')\n",
    "date_draws = [d for d in date_df.columns if d.startswith('death_date_draw_')]\n",
    "for date_draw in date_draws:\n",
    "    date_df[date_draw] = pd.to_datetime(date_df[date_draw])\n"
   ]
  },
  {
   "cell_type": "markdown",
   "metadata": {},
   "source": [
    "## test draws"
   ]
  },
  {
   "cell_type": "code",
   "execution_count": null,
   "metadata": {},
   "outputs": [],
   "source": [
    "# draw_cols = [f'draw_{i}' for i in range(1000)]\n",
    "# df = pd.read_csv(f'{OUTPUT_DIR}/state_data.csv')\n",
    "# location_ids = df['location_id'].unique().tolist()\n",
    "\n",
    "# sub_dfs = []\n",
    "# for location_id in location_ids:\n",
    "#     sub_df = df.loc[df['location_id'] == location_id].reset_index(drop=True)\n",
    "#     sub_df['cumulative_deaths'] = sub_df[draw_cols].mean(axis=1)\n",
    "#     sub_df['daily_deaths'] = sub_df['cumulative_deaths']\n",
    "#     sub_df['daily_deaths'][1:] = (sub_df[draw_cols].values[1:] - sub_df[draw_cols].values[:-1]).mean(axis=1)\n",
    "#     sub_df = sub_df[['location_id', 'location', 'date', 'cumulative_deaths', 'daily_deaths']]\n",
    "#     sub_df['peak_date'] = False\n",
    "#     sub_df['peak_date'][sub_df['daily_deaths'].values.argmax()] = True\n",
    "#     assert sub_df['peak_date'].sum() == 1, 'Multiple/no peak dates'\n",
    "#     sub_dfs.append(sub_df[['location_id', 'location', 'date', 'peak_date']])\n",
    "\n",
    "# sub_df = pd.concat(sub_dfs)\n",
    "# df = sub_df.merge(df)\n",
    "# df.to_csv(f'{OUTPUT_DIR}/state_data_w_peak.csv', index=False)\n",
    "# print(f'{OUTPUT_DIR}/state_data_w_peak.csv')\n",
    "\n",
    "# set up ensemble\n",
    "model_out_dirs = []\n",
    "for cov_sort, weights in COV_SETTINGS:\n",
    "    for k in KS:\n",
    "        # set up dirs\n",
    "        model_out_dir = f'{OUTPUT_DIR}/model_data_{cov_sort}_{k}'\n",
    "        if not os.path.exists(model_out_dir):\n",
    "            os.mkdir(model_out_dir)\n",
    "        model_out_dirs.append(model_out_dir)\n",
    "\n",
    "# location\n",
    "location_name = 'Wyoming'\n",
    "location_id = 573\n",
    "\n",
    "# get draws\n",
    "data_draws = Drawer(\n",
    "    ensemble_dirs=model_out_dirs,\n",
    "    location_name=location_name,\n",
    "    location_id=location_id,\n",
    "    obs_df=input_full_df.loc[input_full_df['Province/State'] == location_name],\n",
    "    date_draws=date_df.loc[date_df['location'] == location_name, date_draws].values,\n",
    "    population=input_age_pop_df.loc[input_age_pop_df['location_id'] == location_id, 'population'].sum()\n",
    ")\n",
    "draw_df, past_df, model_used, days, ensemble_draws = data_draws.get_dated_draws()\n"
   ]
  },
  {
   "cell_type": "code",
   "execution_count": null,
   "metadata": {},
   "outputs": [],
   "source": [
    "draw_df"
   ]
  },
  {
   "cell_type": "code",
   "execution_count": null,
   "metadata": {},
   "outputs": [],
   "source": []
  }
 ],
 "metadata": {
  "kernelspec": {
   "display_name": "Python 3",
   "language": "python",
   "name": "python3"
  },
  "language_info": {
   "codemirror_mode": {
    "name": "ipython",
    "version": 3
   },
   "file_extension": ".py",
   "mimetype": "text/x-python",
   "name": "python",
   "nbconvert_exporter": "python",
   "pygments_lexer": "ipython3",
   "version": "3.6.7"
  }
 },
 "nbformat": 4,
 "nbformat_minor": 4
}
