{
 "cells": [
  {
   "cell_type": "markdown",
   "metadata": {},
   "source": [
    "# Test Fitting Mixture of Gaussian on Peaked Locations"
   ]
  },
  {
   "cell_type": "code",
   "execution_count": null,
   "metadata": {},
   "outputs": [],
   "source": [
    "import numpy as np\n",
    "import math\n",
    "import pandas as pd\n",
    "import matplotlib.pyplot as plt\n",
    "import curvefit\n",
    "import curvefit.core.utils as utils\n",
    "from scipy.optimize import minimize\n",
    "from copy import deepcopy\n",
    "from scipy import stats\n",
    "from pprint import pprint\n",
    "from curvefit.pipelines.flat_asymmetric_model import APFlatAsymmetricModel\n",
    "from curvefit.pipelines.ap_model import APModel\n",
    "from curvefit.core.utils import get_obs_se, local_smoother, df_to_mat\n",
    "from curvefit.core.functions import ln_gaussian_cdf, ln_gaussian_pdf, gaussian_cdf, gaussian_pdf"
   ]
  },
  {
   "cell_type": "code",
   "execution_count": null,
   "metadata": {},
   "outputs": [],
   "source": [
    "peaked_groups = [\n",
    "    'Abruzzo',\n",
    "    'Andalucia',\n",
    "    'Baden-Wurttemberg',\n",
    "    'Basque Country',\n",
    "    'Bavaria',\n",
    "    'Campania',\n",
    "    'Canary Islands',\n",
    "    'Castile and Leon',\n",
    "    'Catalonia',\n",
    "    'Colorado',\n",
    "    'Community of Madrid',\n",
    "    'Emilia-Romagna',\n",
    "    'Extremadura',\n",
    "    'Friuli-Venezia Giulia',\n",
    "    'Galicia',\n",
    "    'King and Snohomish Counties (excluding Life Care Center), WA',\n",
    "    'La Rioja',\n",
    "    'Lazio',\n",
    "    'Liguria',\n",
    "    'Lombardia',\n",
    "    'Marche',\n",
    "    'Navarre',\n",
    "    'New York',\n",
    "    'Other Counties, WA',\n",
    "    'Provincia autonoma di Bolzano',\n",
    "    'Provincia autonoma di Trento',\n",
    "    'Valencian Community',\n",
    "    \"Valle d'Aosta\",\n",
    "    'Veneto',\n",
    "    'Wuhan City, Hubei'\n",
    "]"
   ]
  },
  {
   "cell_type": "code",
   "execution_count": null,
   "metadata": {},
   "outputs": [],
   "source": [
    "file_path_data = '../data/New York.csv'\n",
    "file_path_covariate = '../data/New York covariate.csv'"
   ]
  },
  {
   "cell_type": "code",
   "execution_count": null,
   "metadata": {},
   "outputs": [],
   "source": [
    "df = pd.read_csv(file_path_data)\n",
    "df_cov = pd.read_csv(file_path_covariate)\n",
    "\n",
    "df_cov = df_cov.rename(columns={'location': 'Location'})\n",
    "df = pd.merge(df, df_cov, on='Location', how='inner').copy()\n",
    "\n",
    "df['intercept'] = 1.0\n",
    "\n",
    "df['smooth death rate'] = np.exp(df['ln(age-standardized death rate)'])"
   ]
  },
  {
   "cell_type": "code",
   "execution_count": null,
   "metadata": {},
   "outputs": [],
   "source": [
    "df = curvefit.core.utils.process_input(df, 'Location', 'Days', 'smooth death rate',\n",
    "                                       col_covs=['cov_1w', 'intercept'])"
   ]
  },
  {
   "cell_type": "markdown",
   "metadata": {},
   "source": [
    "## Create Pipeline"
   ]
  },
  {
   "cell_type": "code",
   "execution_count": null,
   "metadata": {},
   "outputs": [],
   "source": [
    "basic_info_dict = dict(\n",
    "    all_cov_names=['cov_1w'],\n",
    "    col_t='days',\n",
    "    col_group='location',\n",
    "    predict_space=ln_gaussian_pdf,\n",
    "    col_obs_compare='ln asddr',\n",
    "    peaked_groups=peaked_groups\n",
    ")\n",
    "\n",
    "basic_model_dict = dict(\n",
    "    param_names=['alpha', 'beta', 'p'],\n",
    "    col_covs=[['intercept'], ['cov_1w'], ['intercept']],\n",
    "    link_fun=[np.exp, lambda x: x, np.exp],\n",
    "    var_link_fun=[lambda x: x, lambda x: x, lambda x: x]\n",
    ")"
   ]
  },
  {
   "cell_type": "code",
   "execution_count": null,
   "metadata": {},
   "outputs": [],
   "source": [
    "# basic fit parameter\n",
    "dummy_gprior = [0.0, np.inf]\n",
    "dummy_uprior = [-np.inf, np.inf]\n",
    "zero_uprior = [0.0, 0.0]\n",
    "fe_init = np.array([-3, 28.0, -8.05])\n",
    "fe_bounds = [[-np.inf, 0.0], [15.0, 100.0], [-15, -6]]\n",
    "options = {\n",
    "    'ftol': 1e-10,\n",
    "    'gtol': 1e-10,\n",
    "    'maxiter': 500,\n",
    "    'disp': True\n",
    "}\n",
    "\n",
    "basic_fit_dict = dict(\n",
    "    fe_init=fe_init,\n",
    "    fe_bounds=fe_bounds,\n",
    "    re_bounds=[zero_uprior]*3,\n",
    "    fe_gprior=[dummy_gprior]*3,\n",
    "    re_gprior=[dummy_gprior]*3,\n",
    "    options=options\n",
    ")\n",
    "\n",
    "basic_joint_model_fit_dict = dict(\n",
    "    fe_gprior=[dummy_gprior]*3,\n",
    "    re_bounds=[dummy_uprior]*3,\n",
    "    re_gprior=[dummy_gprior, [0.0, 10.0], dummy_gprior],\n",
    "    smart_initialize=True,\n",
    "    smart_init_options=options,\n",
    "    options={\n",
    "        'ftol': 1e-10,\n",
    "        'gtol': 1e-10,\n",
    "        'maxiter': 10,\n",
    "        'disp': True\n",
    "    }\n",
    ")"
   ]
  },
  {
   "cell_type": "code",
   "execution_count": null,
   "metadata": {},
   "outputs": [],
   "source": [
    "model_info_dict = {\n",
    "    **deepcopy(basic_info_dict),\n",
    "    'fun': ln_gaussian_cdf,\n",
    "    'col_obs': 'ln ascdr',\n",
    "    'obs_se_func': lambda x: (1. / (1. + x)),\n",
    "    'prior_modifier': lambda x: 10**(min(0.0, max(-1.0,\n",
    "                0.1*x - 1.5\n",
    "    ))),\n",
    "}"
   ]
  },
  {
   "cell_type": "code",
   "execution_count": null,
   "metadata": {},
   "outputs": [],
   "source": [
    "fit_dict = {\n",
    "    **deepcopy(basic_fit_dict),\n",
    "    'fun_gprior': [lambda params: params[0] * params[1], [np.exp(0.7), 1e-1]]\n",
    "}"
   ]
  },
  {
   "cell_type": "code",
   "execution_count": null,
   "metadata": {},
   "outputs": [],
   "source": [
    "gm_fit_dict = {\n",
    "    'bounds': np.repeat(np.array([[0.0, np.inf]]), 13, axis=0)\n",
    "}"
   ]
  },
  {
   "cell_type": "code",
   "execution_count": null,
   "metadata": {
    "scrolled": true
   },
   "outputs": [],
   "source": [
    "pipeline_model = APFlatAsymmetricModel(\n",
    "    beta_stride=2,\n",
    "    mixture_size=13,\n",
    "    daily_col='asddr',\n",
    "    gm_fit_threshold=15,\n",
    "    all_data=df,\n",
    "    **model_info_dict,\n",
    "    joint_model_fit_dict=basic_joint_model_fit_dict,\n",
    "    basic_model_dict=basic_model_dict,\n",
    "    fit_dict=fit_dict\n",
    ")"
   ]
  },
  {
   "cell_type": "code",
   "execution_count": null,
   "metadata": {},
   "outputs": [],
   "source": [
    "pipeline_model.gm_fit_dict['bounds']"
   ]
  },
  {
   "cell_type": "code",
   "execution_count": null,
   "metadata": {},
   "outputs": [],
   "source": [
    "pipeline_model.run(\n",
    "    n_draws=1000, prediction_times=np.arange(100), cv_lower_threshold=1e-3,\n",
    "    smoothed_radius=[3, 3], num_smooths=2, exclude_groups=['Wuhan City, Hubei'],\n",
    "    exclude_below=0, cv_upper_threshold=4.\n",
    ")"
   ]
  },
  {
   "cell_type": "code",
   "execution_count": null,
   "metadata": {},
   "outputs": [],
   "source": [
    "pipeline_model.plot_results(prediction_times=np.arange(100),\n",
    "                           draw_space=curvefit.core.functions.gaussian_pdf,\n",
    "                           plot_obs='asddr', groups=None)\n",
    "plt.savefig(\"/Users/mnorwood/OneDrive/Documents/covid/results_mixtures_7.png\")"
   ]
  },
  {
   "cell_type": "code",
   "execution_count": null,
   "metadata": {},
   "outputs": [],
   "source": []
  }
 ],
 "metadata": {
  "kernelspec": {
   "display_name": "Python 3",
   "language": "python",
   "name": "python3"
  },
  "language_info": {
   "codemirror_mode": {
    "name": "ipython",
    "version": 3
   },
   "file_extension": ".py",
   "mimetype": "text/x-python",
   "name": "python",
   "nbconvert_exporter": "python",
   "pygments_lexer": "ipython3",
   "version": "3.6.10"
  }
 },
 "nbformat": 4,
 "nbformat_minor": 4
}
