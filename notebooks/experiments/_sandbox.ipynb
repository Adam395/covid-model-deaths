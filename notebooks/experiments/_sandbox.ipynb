{
 "cells": [
  {
   "cell_type": "code",
   "execution_count": null,
   "metadata": {},
   "outputs": [],
   "source": [
    "import pandas as pd\n",
    "from functools import reduce"
   ]
  },
  {
   "cell_type": "code",
   "execution_count": null,
   "metadata": {},
   "outputs": [],
   "source": [
    "cov_dfs = []\n",
    "for submod in ['google', 'equal', 'ascmid', 'ascmax']:\n",
    "    cov_df = pd.read_csv(f'/ihme/covid-19/deaths/dev/2020_04_11_Europe_new_cov/model_data_{submod}_21/Netherlands covariate.csv')\n",
    "    cov_df = cov_df.loc[~cov_df['threshold_date'].isnull()]\n",
    "    cov_df = cov_df.rename(index=str, columns={'cov_1w':submod})\n",
    "    cov_dfs.append(cov_df[['Location', submod]])\n",
    "cov_df = reduce(lambda x, y: pd.merge(x, y), cov_dfs)"
   ]
  },
  {
   "cell_type": "code",
   "execution_count": null,
   "metadata": {},
   "outputs": [],
   "source": [
    "cov_df.loc[cov_df['Location'].isin(['Denmark', 'Netherlands', 'Norway'])].to_csv('/ihme/homes/rmbarber/N_Euro_covs.csv', index=False)"
   ]
  },
  {
   "cell_type": "code",
   "execution_count": null,
   "metadata": {},
   "outputs": [],
   "source": [
    "import os\n",
    "\n",
    "import dill as pickle\n",
    "\n",
    "import numpy as np\n",
    "import pandas as pd\n",
    "\n",
    "from scipy.signal import resample\n",
    "\n",
    "import matplotlib.pyplot as plt\n",
    "\n",
    "\n",
    "location_name = 'California'\n",
    "location_id = '_527'\n",
    "pop = 36.9e6\n",
    "n_draws = 111\n",
    "\n",
    "with open(f'/ihme/covid-19/deaths/prod/2020_04_13_US/model_data_equal_21/{location_name}/draws.pkl', 'rb') as fopen:\n",
    "    draws = pickle.load(fopen)\n",
    "\n",
    "orig_draws = np.exp(draws[location_id][1]) * pop\n",
    "# ds_draws = np.arange(orig_draws.shape[0], step=orig_draws.shape[0]/n_draws)\n",
    "# ds_draws = [int(i) for i in ds_draws]\n",
    "# assert len(ds_draws) == n_draws, 'Draw length not correct.'\n",
    "# downsample_draws = orig_draws[ds_draws]\n",
    "downsample_draws = resample(orig_draws, n_draws, axis=0)\n",
    "downsample_draws = downsample_draws[np.argsort(downsample_draws[:,-1]),:]\n",
    "\n",
    "orig_draws = orig_draws[:,1:] - orig_draws[:,:-1]\n",
    "downsample_draws = downsample_draws[:,1:] - downsample_draws[:,:-1]\n",
    "\n",
    "plt.figure(figsize=(11, 8.5))\n",
    "plt.fill_between(draws[location_id][0][1:],\n",
    "                np.percentile(orig_draws, 2.5, axis=0),\n",
    "                np.percentile(orig_draws, 97.5, axis=0),\n",
    "                color='dodgerblue', alpha=0.5)\n",
    "plt.plot(draws[location_id][0][1:],\n",
    "         orig_draws.mean(axis=0), color='dodgerblue', label='Full draws')\n",
    "plt.fill_between(draws[location_id][0][1:],\n",
    "                np.percentile(downsample_draws, 2.5, axis=0),\n",
    "                np.percentile(downsample_draws, 97.5, axis=0),\n",
    "                color='firebrick', alpha=0.5)\n",
    "plt.plot(draws[location_id][0][1:],\n",
    "         downsample_draws.mean(axis=0), color='firebrick', label='Downsampled draws', linestyle='--')\n",
    "plt.legend(loc=2)\n",
    "plt.show()\n"
   ]
  },
  {
   "cell_type": "code",
   "execution_count": null,
   "metadata": {},
   "outputs": [],
   "source": [
    "?resample"
   ]
  },
  {
   "cell_type": "code",
   "execution_count": null,
   "metadata": {},
   "outputs": [],
   "source": [
    "\n",
    "google_df = pd.read_csv('/ihme/covid-19/deaths/dev/2020_04_13_US_mobility_closure_w/model_data_google_21/California covariate.csv')\n",
    "descartes_df = pd.read_csv('/ihme/covid-19/deaths/dev/2020_04_13_US_mobility_closure_w/model_data_descartes_21/California covariate.csv')\n",
    "safegraph_df = pd.read_csv('/ihme/covid-19/deaths/dev/2020_04_13_US_mobility_closure_w/model_data_safegraph_21/California covariate.csv')\n"
   ]
  },
  {
   "cell_type": "code",
   "execution_count": null,
   "metadata": {},
   "outputs": [],
   "source": [
    "google_df"
   ]
  },
  {
   "cell_type": "code",
   "execution_count": null,
   "metadata": {},
   "outputs": [],
   "source": [
    "descartes_df"
   ]
  },
  {
   "cell_type": "code",
   "execution_count": null,
   "metadata": {},
   "outputs": [],
   "source": [
    "safegraph_df"
   ]
  },
  {
   "cell_type": "code",
   "execution_count": null,
   "metadata": {},
   "outputs": [],
   "source": [
    "# map of closure codes to names\n",
    "code_map = {'ci_sd1':'People instructed to stay at home', \n",
    "            'ci_sd2':'Educational facilities closed', \n",
    "            'ci_sd3':'Non-essential services closed (i.e., bars/restaurants)', \n",
    "            'ci_psd1':'Any Gathering Restrictions', \n",
    "            'ci_psd3':'Any Business Closures'}\n",
    "\n",
    "weight_dfs = []\n",
    "for empirical_weight_source in ['google', 'descartes', 'safegraph']:\n",
    "    # load data, just keep average\n",
    "    weight_df = pd.read_csv('/ihme/homes/xdai88/sd_effect/effs_on_DL_GLavg_SG.csv')\n",
    "    weight_df = weight_df.loc[weight_df['statistic'] == 'mean']\n",
    "    if empirical_weight_source == 'google':\n",
    "        weight_df = weight_df.loc[weight_df['metric'] == 'Google_avg_of_retail_transit_workplace']\n",
    "    elif empirical_weight_source == 'descartes':\n",
    "        weight_df = weight_df.loc[weight_df['metric'] == 'Descartes_absolute_travel_distance']\n",
    "    elif empirical_weight_source == 'safegraph':\n",
    "        weight_df = weight_df.loc[weight_df['metric'] == 'Safegraph_time_outside_home']\n",
    "    else:\n",
    "        raise ValueError('Invalid `empirical_weight_source` provided.')\n",
    "\n",
    "    # set to proportional reduction (i.e., positive, out of 1)\n",
    "    weight_df[list(code_map.keys())] = weight_df[list(code_map.keys())].values\n",
    "\n",
    "    # remove partial effect from full (will use these as compounding in weighting)\n",
    "    weight_df['ci_sd1'] = weight_df['ci_sd1'] - weight_df['ci_psd1']\n",
    "    weight_df['ci_sd3'] = weight_df['ci_sd3'] - weight_df['ci_psd3']\n",
    "    weight_df = pd.melt(weight_df, \n",
    "                        id_vars=['metric'], \n",
    "                        value_vars=list(code_map.keys()),\n",
    "                        var_name='closure_code',\n",
    "                        value_name='effect')\n",
    "    weight_df['closure_name'] = weight_df['closure_code'].map(code_map)\n",
    "    weight_denom = weight_df['effect'].sum()\n",
    "    weight_df['weight'] = weight_df['effect'] / weight_denom\n",
    "    weight_df['source'] = empirical_weight_source\n",
    "    weight_dfs.append(weight_df)\n",
    "    \n",
    "weight_df = pd.concat(weight_dfs)\n"
   ]
  },
  {
   "cell_type": "code",
   "execution_count": null,
   "metadata": {},
   "outputs": [],
   "source": [
    "df = pd.pivot_table(weight_df, index='source', columns='closure_name', values='weight').reset_index()\n",
    "df.to_csv('/ihme/homes/rmbarber/mobility_weights.csv', index=False)"
   ]
  },
  {
   "cell_type": "code",
   "execution_count": null,
   "metadata": {},
   "outputs": [],
   "source": []
  }
 ],
 "metadata": {
  "kernelspec": {
   "display_name": "Python 3",
   "language": "python",
   "name": "python3"
  },
  "language_info": {
   "codemirror_mode": {
    "name": "ipython",
    "version": 3
   },
   "file_extension": ".py",
   "mimetype": "text/x-python",
   "name": "python",
   "nbconvert_exporter": "python",
   "pygments_lexer": "ipython3",
   "version": "3.6.10"
  }
 },
 "nbformat": 4,
 "nbformat_minor": 4
}
