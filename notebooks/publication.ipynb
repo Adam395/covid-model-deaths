{
 "cells": [
  {
   "cell_type": "code",
   "execution_count": null,
   "metadata": {},
   "outputs": [],
   "source": [
    "from datetime import datetime, timedelta\n",
    "\n",
    "import os\n",
    "\n",
    "import numpy as np\n",
    "import pandas as pd\n",
    "pd.options.display.max_rows = 999\n",
    "pd.options.display.max_columns = 999\n",
    "\n",
    "import matplotlib.pyplot as plt\n",
    "import matplotlib.ticker as ticker\n",
    "import seaborn as sns\n",
    "sns.set_style('whitegrid')\n",
    "\n",
    "import warnings\n",
    "warnings.simplefilter('ignore')\n"
   ]
  },
  {
   "cell_type": "markdown",
   "metadata": {},
   "source": [
    "###  ... data set age-standardized to the age-structure of California is shown in Figure 2"
   ]
  },
  {
   "cell_type": "code",
   "execution_count": null,
   "metadata": {},
   "outputs": [],
   "source": [
    "model_dir = '/ihme/code/rmbarber/covid_19_ihme/model_data/US_state_data_2020_03_29'\n",
    "ca_df = pd.read_csv(f'{model_dir}/California.csv')\n",
    "\n",
    "# do the plotting\n",
    "fig, ax = plt.subplots(figsize=(20, 12))\n",
    "ax.xaxis.set_major_locator(ticker.MaxNLocator(integer=True))\n",
    "ca_df = ca_df.sort_values(['Country/Region', 'Location', 'Days'])\n",
    "labelled_countries = []\n",
    "for location, country in ca_df[['Location', 'Country/Region']].drop_duplicates().values:\n",
    "    if country == 'China':\n",
    "        color = 'dodgerblue'\n",
    "    elif country == 'United States of America':\n",
    "        color = 'firebrick'\n",
    "    elif country == 'Italy':\n",
    "        color = 'seagreen'\n",
    "    elif country == 'Spain':\n",
    "        color = 'darkgrey'\n",
    "    elif country == 'Germany':\n",
    "        color = 'darkviolet'\n",
    "    else:\n",
    "        print('Unexpected country value')\n",
    "    if country in labelled_countries:\n",
    "        plt.plot(ca_df.loc[ca_df['Location'] == location, 'Days'],\n",
    "                 ca_df.loc[ca_df['Location'] == location, 'ln(age-standardized death rate)'],\n",
    "                 linestyle='-', alpha=0.75, color=color)\n",
    "    else:\n",
    "        plt.plot(ca_df.loc[ca_df['Location'] == location, 'Days'],\n",
    "                 ca_df.loc[ca_df['Location'] == location, 'ln(age-standardized death rate)'],\n",
    "                 label=country, linestyle='-', alpha=0.75, color=color)\n",
    "        labelled_countries.append(country)\n",
    "plt.xticks(fontsize=14)\n",
    "plt.yticks(fontsize=14)\n",
    "plt.xlabel('Days', fontsize=16)\n",
    "plt.xlim(0, ca_df['Days'].max())\n",
    "plt.ylabel('ln(age-standardized death rate)', fontsize=16)\n",
    "plt.legend(loc='upper center', bbox_to_anchor=(0.5, -0.05), ncol=5, fontsize=16)\n",
    "plt.title('Figure 2. Death rate data age-standardized to California as a function of time since a threshold death rate of 0.3 per million.', \n",
    "          fontsize=20, loc='left')\n",
    "plt.tight_layout()\n",
    "plt.savefig('/ihme/code/rmbarber/covid_19_ihme/model_data/figure_2_ca_lnasdr_2020_03_29.pdf')\n"
   ]
  },
  {
   "cell_type": "markdown",
   "metadata": {},
   "source": [
    "### Only 26 states have deaths greater than 0.31 per million (e-15) and were included in the model estimation along with data on XX other admin 1 locations."
   ]
  },
  {
   "cell_type": "code",
   "execution_count": null,
   "metadata": {},
   "outputs": [],
   "source": [
    "model_dir = '/ihme/covid-19/deaths/prod/2020_04_04_US/model_data_equal_21'\n",
    "\n",
    "states = [s[:-4] for s in os.listdir(model_dir) if s.endswith('.csv') and not s.endswith('covariate.csv')]\n",
    "\n",
    "df = pd.concat([pd.read_csv(f'{model_dir}/{f}') for f in os.listdir(model_dir) if f.endswith('.csv') and not f.endswith('covariate.csv')])\n",
    "df = df[['location_id', 'Location']].drop_duplicates()\n",
    "\n",
    "# cov_df = pd.read_csv('/ihme/covid-19/social distancing/closure_criteria_covariate_scenarios_20200325.csv')\n",
    "# cov_df = cov_df.rename(index=str, columns={'location':'Location'})\n",
    "# cov_df = ca_df.merge(ca_df[['Location', 'Country/Region']].drop_duplicates(), how='left')\n",
    "# assert not cov_df['Country/Region'].isnull().any(), 'Some location not in CA data.'\n",
    "# print(len(cov_df.loc[cov_df['Country/Region'] != 'United States of America', ['Location', 'Country/Region']].drop_duplicates()))\n",
    "# print(\n",
    "#     len(cov_df.loc[(cov_df['Country/Region'] == 'United States of America') & ~(cov_df['Location'].str.endswith('WA')), \n",
    "#                    ['Location', 'Country/Region']].drop_duplicates()) + 1  # don't count WA subnats individually\n",
    "# )\n"
   ]
  },
  {
   "cell_type": "code",
   "execution_count": null,
   "metadata": {},
   "outputs": [],
   "source": [
    "[i for i in states if i not in df['Location'].to_list()]\n",
    "len([i for i in df['Location'].to_list() if i not in states])"
   ]
  },
  {
   "cell_type": "markdown",
   "metadata": {},
   "source": [
    "### get new deaths (i.e., since 03/24)"
   ]
  },
  {
   "cell_type": "code",
   "execution_count": null,
   "metadata": {},
   "outputs": [],
   "source": [
    "# data = nCovid19Deaths()\n",
    "# data.collect_data()\n",
    "# obs_df = data.df[(data.df['Country/Region'] == 'United States of America') & (data.df['Province/State'] != '')]\n",
    "obs_df.loc[obs_df['Date'] == datetime.strptime('2020-03-29', '%Y-%m-%d'), 'Deaths'].sum() - \\\n",
    "    (obs_df.loc[obs_df['Date'] == datetime.strptime('2020-03-24', '%Y-%m-%d'), 'Deaths'].sum() + 33.0 + 32.0)  # add life care and other counties, WA, which don't have a data point on the 24th"
   ]
  },
  {
   "cell_type": "code",
   "execution_count": null,
   "metadata": {},
   "outputs": [],
   "source": [
    "obs_df.groupby('Province/State', as_index=False)['Deaths'].max().sort_values('Deaths', ascending=False)"
   ]
  },
  {
   "cell_type": "code",
   "execution_count": null,
   "metadata": {},
   "outputs": [],
   "source": []
  }
 ],
 "metadata": {
  "kernelspec": {
   "display_name": "Python 3",
   "language": "python",
   "name": "python3"
  },
  "language_info": {
   "codemirror_mode": {
    "name": "ipython",
    "version": 3
   },
   "file_extension": ".py",
   "mimetype": "text/x-python",
   "name": "python",
   "nbconvert_exporter": "python",
   "pygments_lexer": "ipython3",
   "version": "3.6.7"
  }
 },
 "nbformat": 4,
 "nbformat_minor": 4
}
